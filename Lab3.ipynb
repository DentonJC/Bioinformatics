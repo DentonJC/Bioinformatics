{
 "cells": [
  {
   "cell_type": "markdown",
   "metadata": {},
   "source": [
    "## Zadanie 1.\n",
    "- Gepard (GEnome PAir - Rapid Dotter) – to narzędzie do generacji dot-plotów:\n",
    "http://cube.univie.ac.at/gepard\n",
    "- W sekcji download - uruchom program przez Java Web Start (może być low memory version) [żeby zadziałało w pracowni, zapewne trzeba pogmerać w ustawieniach zabezpieczeń]\n",
    "- Załaduj jako sekwencję 1 i 2 - sekwencję nukleotydową ludzkiego genu TPO (ID: 7173)\n",
    "- Przyglądnij się rejonom samopodobieństwa sekwencji używając powiększenia."
   ]
  },
  {
   "cell_type": "markdown",
   "metadata": {
    "collapsed": true
   },
   "source": [
    "![title](res/3.1.jpg)\n",
    "![title](res/3.2.png)"
   ]
  },
  {
   "cell_type": "markdown",
   "metadata": {},
   "source": [
    "## Zadanie 2.\n",
    "Jaki jest sens algorytmu LCS dla sekwencji DNA i białkowych - jakiego typu mutacji nie\n",
    "bierze on pod uwagę?"
   ]
  },
  {
   "cell_type": "markdown",
   "metadata": {
    "collapsed": true
   },
   "source": [
    "In biological applications, we often want to compare the DNA of two (or more) different organisms. […] For example, the DNA of one organism may be S1 = ACCGGTCGAGTGCGCGGAAGCCGGCCGAA while the DNA of another organism may be S2 = GTCGTTCGGAATGCCGTTGCTCTGTAAA. One goal of comparing two strands of DNA is to determine how “similar” the two strands are, as some measure of how cosely related the two organisms are.\n",
    "\n",
    "Cormen, Leiserson, Rivest and Stein, “Introduction to Algorithms” "
   ]
  },
  {
   "cell_type": "code",
   "execution_count": null,
   "metadata": {
    "collapsed": true
   },
   "outputs": [],
   "source": []
  }
 ],
 "metadata": {
  "kernelspec": {
   "display_name": "Python 3",
   "language": "python",
   "name": "python3"
  },
  "language_info": {
   "codemirror_mode": {
    "name": "ipython",
    "version": 3
   },
   "file_extension": ".py",
   "mimetype": "text/x-python",
   "name": "python",
   "nbconvert_exporter": "python",
   "pygments_lexer": "ipython3",
   "version": "3.6.0"
  }
 },
 "nbformat": 4,
 "nbformat_minor": 2
}
