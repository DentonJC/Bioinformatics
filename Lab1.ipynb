{
 "cells": [
  {
   "cell_type": "markdown",
   "metadata": {},
   "source": [
    "## Zadanie 1.\n",
    "Obejrzyj jak wygląda struktura DNA w trójwymiarze:\n",
    "http://www.rcsb.org/pdb/explore/jmol.do?structureId=1BNA\n",
    "najlepiej  ustaw display  options:  \n",
    "    - Style - Ball and  Stick,  \n",
    "    - Color - By  Element\n",
    "    - zaznacz checkbox H-bonds.\n",
    "Jakie kolory odpowiadają poszczególnym atomom?"
   ]
  },
  {
   "cell_type": "markdown",
   "metadata": {
    "collapsed": true
   },
   "source": [
    "![title](res/2.png)\n",
    "![title](res/3.png)\n",
    "![title](res/4.png)"
   ]
  },
  {
   "cell_type": "markdown",
   "metadata": {},
   "source": [
    "Color - By  Element is not available"
   ]
  },
  {
   "cell_type": "markdown",
   "metadata": {},
   "source": [
    "## Zadanie 2.\n",
    "Jakie dostrzegasz korzyści z tego, że DNA ma budowę podwójnej helisy? (w stosunku do nici \n",
    "pojedynczej; weź pod uwagę, że DNA jest nośnikiem informacji)"
   ]
  },
  {
   "cell_type": "markdown",
   "metadata": {
    "collapsed": true
   },
   "source": [
    "00, 01, 10, 11 is better than 0 and 1"
   ]
  },
  {
   "cell_type": "markdown",
   "metadata": {},
   "source": [
    "## Zadanie 3.\n",
    "Odległość między nukleotydami  na  helisie  DNA  wynosi  0:34nm  =  0:34  *  10^9\n",
    "m.  Oblicz  ile \n",
    "bajtów można zapisać na 1 cm DNA?\n",
    "\n",
    "\n",
    "\n",
    "![title](res/dna.jpg)\n",
    "2 bit in 1 nucleotide\n",
    "\n",
    "\n",
    "34 nm = 0.0000034 cm"
   ]
  },
  {
   "cell_type": "code",
   "execution_count": 1,
   "metadata": {},
   "outputs": [
    {
     "data": {
      "text/plain": [
       "1470588.2352941178"
      ]
     },
     "execution_count": 1,
     "metadata": {},
     "output_type": "execute_result"
    }
   ],
   "source": [
    "(1 / 0.00000034) * 2 * 0.125 * 2 # number nuc in 1cm * 2 bit * 0.125 bit in byte * 2 spirals"
   ]
  },
  {
   "cell_type": "code",
   "execution_count": 2,
   "metadata": {},
   "outputs": [
    {
     "data": {
      "text/plain": [
       "1176470.5882352942"
      ]
     },
     "execution_count": 2,
     "metadata": {},
     "output_type": "execute_result"
    }
   ],
   "source": [
    "# 8 nuc in 3.4 nm\n",
    "(1 / 0.0000034) * 8 * 2 * 0.125 * 2"
   ]
  },
  {
   "cell_type": "markdown",
   "metadata": {},
   "source": [
    "## Zadanie 4.\n",
    "Obejrzyj  strukturę białka. Struktury przechowywane są w bazie PDB (Protein Data Bank): \n",
    "http://www.pdb.org\n",
    "\n",
    "Możesz wybrać sobie np. hemoglobinę: nieutlenowana, id: 2HHB; utlenowana, id: 1HHO.\n",
    "Dla zainteresowanych lektura:\n",
    "http://www.pdb.org/pdb/101/motm.do?momID=41"
   ]
  },
  {
   "cell_type": "markdown",
   "metadata": {
    "collapsed": true
   },
   "source": [
    "### 2HHB\n",
    "![title](res/1.png)"
   ]
  },
  {
   "cell_type": "raw",
   "metadata": {},
   "source": [
    ">2HHB:A|PDBID|CHAIN|SEQUENCE\n",
    "VLSPADKTNVKAAWGKVGAHAGEYGAEALERMFLSFPTTKTYFPHFDLSHGSAQVKGHGKKVADALTNAVAHVDDMPNAL\n",
    "SALSDLHAHKLRVDPVNFKLLSHCLLVTLAAHLPAEFTPAVHASLDKFLASVSTVLTSKYR\n",
    ">2HHB:B|PDBID|CHAIN|SEQUENCE\n",
    "VHLTPEEKSAVTALWGKVNVDEVGGEALGRLLVVYPWTQRFFESFGDLSTPDAVMGNPKVKAHGKKVLGAFSDGLAHLDN\n",
    "LKGTFATLSELHCDKLHVDPENFRLLGNVLVCVLAHHFGKEFTPPVQAAYQKVVAGVANALAHKYH\n",
    ">2HHB:C|PDBID|CHAIN|SEQUENCE\n",
    "VLSPADKTNVKAAWGKVGAHAGEYGAEALERMFLSFPTTKTYFPHFDLSHGSAQVKGHGKKVADALTNAVAHVDDMPNAL\n",
    "SALSDLHAHKLRVDPVNFKLLSHCLLVTLAAHLPAEFTPAVHASLDKFLASVSTVLTSKYR\n",
    ">2HHB:D|PDBID|CHAIN|SEQUENCE\n",
    "VHLTPEEKSAVTALWGKVNVDEVGGEALGRLLVVYPWTQRFFESFGDLSTPDAVMGNPKVKAHGKKVLGAFSDGLAHLDN\n",
    "LKGTFATLSELHCDKLHVDPENFRLLGNVLVCVLAHHFGKEFTPPVQAAYQKVVAGVANALAHKYH"
   ]
  },
  {
   "cell_type": "markdown",
   "metadata": {},
   "source": [
    "### 1HHO\n",
    "![title](res/1hho.pdb1-500.jpg)"
   ]
  },
  {
   "cell_type": "raw",
   "metadata": {},
   "source": [
    ">1HHO:A|PDBID|CHAIN|SEQUENCE\n",
    "VLSPADKTNVKAAWGKVGAHAGEYGAEALERMFLSFPTTKTYFPHFDLSHGSAQVKGHGKKVADALTNAVAHVDDMPNAL\n",
    "SALSDLHAHKLRVDPVNFKLLSHCLLVTLAAHLPAEFTPAVHASLDKFLASVSTVLTSKYR\n",
    ">1HHO:B|PDBID|CHAIN|SEQUENCE\n",
    "VHLTPEEKSAVTALWGKVNVDEVGGEALGRLLVVYPWTQRFFESFGDLSTPDAVMGNPKVKAHGKKVLGAFSDGLAHLDN\n",
    "LKGTFATLSELHCDKLHVDPENFRLLGNVLVCVLAHHFGKEFTPPVQAAYQKVVAGVANALAHKYH"
   ]
  },
  {
   "cell_type": "markdown",
   "metadata": {},
   "source": [
    "## Zadanie 5:\n",
    "Każde  3 nukleotydy kodują aminokwas, bądź oznaczają koniec tłumaczenia, są to tzw. kodony stop. \n",
    "Ponieważ mamy 4^3 = 64 możliwości na zakodowanie 20 aminokwasów, niektóre aminokwasy są kodowane przez więcej niż jedną trójkę nukleotydów, jest to tzw. degeneracja kodu.\n",
    "\n",
    "Jak sądzisz, dlaczego kod genetyczny jest zdegenerowany?"
   ]
  },
  {
   "cell_type": "markdown",
   "metadata": {
    "collapsed": true
   },
   "source": []
  },
  {
   "cell_type": "markdown",
   "metadata": {},
   "source": [
    "## Zadanie 6:\n",
    "Co wypisuje wskazana wyżej funkcja „fibonacci” i jaką wartość zwraca?"
   ]
  },
  {
   "cell_type": "code",
   "execution_count": 3,
   "metadata": {},
   "outputs": [
    {
     "name": "stdout",
     "output_type": "stream",
     "text": [
      "Print numbers from 0 to n-1:\n",
      "0\n",
      "1\n",
      "1\n",
      "2\n",
      "3\n",
      "Return number n:\n"
     ]
    },
    {
     "data": {
      "text/plain": [
       "8"
      ]
     },
     "execution_count": 3,
     "metadata": {},
     "output_type": "execute_result"
    }
   ],
   "source": [
    "def fibonacci(n):\n",
    "    a, b = 0, 1\n",
    "    print(\"Print numbers from 0 to n-1:\")\n",
    "    while a < n:\n",
    "        print(a)\n",
    "        a, b = b, a+b\n",
    "    print(\"Return number n:\")\n",
    "    return b\n",
    "\n",
    "fibonacci(5)"
   ]
  },
  {
   "cell_type": "markdown",
   "metadata": {},
   "source": [
    "## Zadanie 7:\n",
    "Niech a będzie dowolna sekwencją DNA (ciąg niezerowej długości, składający się z liter A, C, G i T), np.: a=’TATATAAAAAAAAGGGGGAT”.\n",
    "\n",
    "Wypisz:\n",
    "- a) ciąg w odwróconej kolejności;\n",
    "- b) pierwsze pięć nukleotydów w sekwencji\n",
    "- c) co trzeci nukleotyd\n",
    "- d) kolejne fragmenty ciągu pogrupowane po trzy znaki w jednym wierszu"
   ]
  },
  {
   "cell_type": "code",
   "execution_count": 4,
   "metadata": {},
   "outputs": [
    {
     "name": "stdout",
     "output_type": "stream",
     "text": [
      "a) TAGGGGGAAAAAAAATATAT\n",
      "b) TATAT\n",
      "c) TAAAAGA\n",
      "d) ['TAT', 'ATA', 'AAA', 'AAA', 'AGG', 'GGG', 'AT']\n"
     ]
    }
   ],
   "source": [
    "a=\"TATATAAAAAAAAGGGGGAT\"\n",
    "\n",
    "print(\"a)\", a[::-1])\n",
    "print(\"b)\", a[:5])\n",
    "\n",
    "c = \"\"\n",
    "for i in range (0, len(a), 3):\n",
    "    c = c + a[i]    \n",
    "print(\"c)\", c)\n",
    "\n",
    "d = []\n",
    "for i in range (0, len(a), 3):\n",
    "    d.append(a[i:i+3])   \n",
    "print(\"d)\", d)\n"
   ]
  },
  {
   "cell_type": "markdown",
   "metadata": {},
   "source": [
    "## Zadanie 8: (Waiting for Rosalind)\n",
    "Zarejestruj (zaloguj) się na portalu http://rosalind.info i  dołącz do klasy „bioinformatyka”. Wykonaj zadania oznaczone dzisiejszą datą.\n",
    "Funkcję translate(sequence) zwracającą  sekwencję  aminokwasów,  przetłumaczoną zgodnie z kodem genetycznym wywołaj dla sekwencji z załąc zonego pliku (hemoglobin.txt). \n",
    "Wykonaj tłumaczenie, rozpoczynając również od drugiego i od trzeciego nukleotydu, zobacz jak wpływa to na zmianę wyprodukowanego białka."
   ]
  },
  {
   "cell_type": "code",
   "execution_count": 5,
   "metadata": {
    "collapsed": true
   },
   "outputs": [],
   "source": [
    "gencode = {\n",
    "'ATA':'I', 'ATC':'I', 'ATT':'I', 'ATG':'M',\n",
    "'ACA':'T', 'ACC':'T', 'ACG':'T', 'ACT':'T',\n",
    "'AAC':'N', 'AAT':'N', 'AAA':'K', 'AAG':'K',\n",
    "'AGC':'S', 'AGT':'S', 'AGA':'R', 'AGG':'R',\n",
    "'CTA':'L', 'CTC':'L', 'CTG':'L', 'CTT':'L',\n",
    "'CCA':'P', 'CCC':'P', 'CCG':'P', 'CCT':'P',\n",
    "'CAC':'H', 'CAT':'H', 'CAA':'Q', 'CAG':'Q',\n",
    "'CGA':'R', 'CGC':'R', 'CGG':'R', 'CGT':'R',\n",
    "'GTA':'V', 'GTC':'V', 'GTG':'V', 'GTT':'V',\n",
    "'GCA':'A', 'GCC':'A', 'GCG':'A', 'GCT':'A',\n",
    "'GAC':'D', 'GAT':'D', 'GAA':'E', 'GAG':'E',\n",
    "'GGA':'G', 'GGC':'G', 'GGG':'G', 'GGT':'G',\n",
    "'TCA':'S', 'TCC':'S', 'TCG':'S', 'TCT':'S',\n",
    "'TTC':'F', 'TTT':'F', 'TTA':'L', 'TTG':'L',\n",
    "'TAC':'Y', 'TAT':'Y', 'TAA':'*', 'TAG':'*',\n",
    "'TGC':'C', 'TGT':'C', 'TGA':'*', 'TGG':'W' }"
   ]
  },
  {
   "cell_type": "markdown",
   "metadata": {},
   "source": [
    "Gwiazdka (*) oznacza kodon STOP. Po jego przeczytaniu, translacja powinna się zakończyć.\n",
    "- Funkcja line.rstrip() usunie znaki końca linii z pliku.\n",
    "- Funkcja range(start, stop, step) ułatwi iterowanie po sekwencji\n",
    "- Instrukcje testowe wykonywane poza zdefiniowanymi funkcjami, warto zawrzeć wewnątrz konstrukcji:\n",
    "if __name__ == \"__main__\":\n",
    "Konstrukcja ta będzie wykonana tylko gdy plik będzie uruchamiany bezpośrednio (nie będzie \n",
    "wykonywana, jeżeli nasz moduł zostanie zaimportowany przez inny program).\n",
    "(więcej informacji tutaj: \n",
    "http://pl.wikibooks.org/wiki/Zanurkuj_w_Pythonie/Testowanie_modu%C5%82%C3%B3w)"
   ]
  },
  {
   "cell_type": "code",
   "execution_count": null,
   "metadata": {
    "collapsed": true
   },
   "outputs": [],
   "source": []
  }
 ],
 "metadata": {
  "kernelspec": {
   "display_name": "Python 3",
   "language": "python",
   "name": "python3"
  },
  "language_info": {
   "codemirror_mode": {
    "name": "ipython",
    "version": 3
   },
   "file_extension": ".py",
   "mimetype": "text/x-python",
   "name": "python",
   "nbconvert_exporter": "python",
   "pygments_lexer": "ipython3",
   "version": "3.6.0"
  }
 },
 "nbformat": 4,
 "nbformat_minor": 2
}
