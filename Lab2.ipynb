{
 "cells": [
  {
   "cell_type": "markdown",
   "metadata": {},
   "source": [
    "## Zadanie 1.\n",
    "1.  Wejdź  na  stronę NCBI (http://www.ncbi.nlm.nih.gov) lub Entrez (https://www.ncbi.nlm.nih.gov/gquery/) – pierwszy link zaprowadzi Cie na główną stronę NCBI, gdzie możesz się zapoznać z dostępnymi narzędziami; drugi wyświetla listę baz danych indeksowanych przez Entrez.\n",
    "2. W pole wyszukiwania na górze strony wpisz: hemoglobin human - pokażą się rezultaty we wszystkich  bazach  NCBI  dla  tego  zapytania (w  ilu  bazach  danych  zostały  znalezione informacje?).\n",
    "3. Wybierz bazę Gene,  a  w  wynikach pierwszy  znaleziony  rekord  o  nazwie  HBB - pojawia się  strona  podsumowująca  informacje  o  tym  genie.  Czego  możemy  się  dowiedzieć  o hemoglobinie w kolejnych sekcjach?\n",
    "4. Znajdź sekcję NCBI Reference Sequences (RefSeq). Co wyróżnia bazę RefSeq?\n",
    "5. Pobierz sekwencję genomową formacie FASTA w podsekcji Genomic.\n",
    "6. W podsekcji mRNA and Protein przejdź do linka oznaczonego jako NM_000518.4 (NM oznacza  identyfikator  dla  mRNA,  a  NP  dla  sekwencji  białkowych).  Wyświetli  się podsumowanie tej sekwencji w formacie GenBank.\n",
    "7. W prawym górnym rogu możesz zapisać sekwencję w formacie FASTA wybi erając Send (zaznacz opcję Coding Sequences).\n"
   ]
  },
  {
   "cell_type": "markdown",
   "metadata": {
    "collapsed": true
   },
   "source": [
    "### 2. \n",
    "Results found in 35 databases for \"hemoglobin human\"\n",
    "### 3.\n",
    "    - Summary\n",
    "    \n",
    "    The alpha (HBA) and beta (HBB) loci determine the structure of the 2 types of polypeptide chains in adult hemoglobin, Hb A. The normal adult hemoglobin tetramer consists of two alpha chains and two beta chains. Mutant beta globin causes sickle cell anemia. Absence of beta chain causes beta-zero-thalassemia. Reduced amounts of detectable beta globin causes beta-plus-thalassemia. The order of the genes in the beta-globin cluster is 5'-epsilon -- gamma-G -- gamma-A -- delta -- beta--3'. [provided by RefSeq, Jul 2008]\n",
    "    \n",
    "    - Genomic context\n",
    "    - Genomic regions, transcripts, and products\n",
    "    - Expression\n",
    "    - Phenotypes\n",
    "    - Variation\n",
    "    - General gene information\n",
    "    - General protein information\n",
    "### 4. \n",
    "![title](res/2.1.png)\n",
    "### 6.\n",
    "![title](res/2.2.png)\n",
    "![title](res/2.3.png)"
   ]
  },
  {
   "cell_type": "markdown",
   "metadata": {},
   "source": [
    "## Zadanie 2. Operacje na sekwencjach."
   ]
  },
  {
   "cell_type": "code",
   "execution_count": 1,
   "metadata": {},
   "outputs": [
    {
     "name": "stdout",
     "output_type": "stream",
     "text": [
      "TGAGGCCCTGGGCAGGCTGCTGGTGGTCTACCCT\n",
      "T\n",
      "T\n",
      "3\n",
      "34\n",
      "TGAGGCCCTGGGCAGGCTGCTGGTGGTCTACCCTATTTTTTA\n",
      "TGCGCGGGGCCT\n",
      "GGCGACCGGTC\n",
      "ACTGGTTTTAC\n",
      "TGAGGCCCTGGGCAGGCTGCTGGTGGTCTACCCT\n"
     ]
    }
   ],
   "source": [
    "from Bio.Seq import Seq\n",
    "sequence = Seq(\"TGAGGCCCTGGGCAGGCTGCTGGTGGTCTACCCT\")\n",
    "print(sequence)\n",
    "# obiekt Seq zachowuje się jak string:\n",
    "print(sequence[0])\n",
    "print(sequence[-1])\n",
    "print(sequence.count('A'))\n",
    "print(len(sequence))\n",
    "print(sequence+'ATTTTTTA')\n",
    "\n",
    "print(sequence[0::3]) # pierwszy nukleotyd z kodonu\n",
    "print(sequence[1::3]) # drugi nukleotyd z kodonu\n",
    "print(sequence[2::3]) # trzeci nukleotyd z kodonu\n",
    "\n",
    "# mozemy przekształcić sekwencje do stringa:\n",
    "print(str(sequence))"
   ]
  },
  {
   "cell_type": "markdown",
   "metadata": {},
   "source": [
    "## Zadanie 3. Alfabet\n",
    "Obiekt  Seq,  reprezentujący  sekwencje,  zachowuje  się  tak  samo  jak  obiekt  typu  string, \n",
    "dodatk\n",
    "owo  możemy  ustawić  w  nim  alfabet,  czyli  sprecyzować  czy  jest  to  sekwencja \n",
    "nukleotydowa czy może sekwencja złożona z aminokwasów. Nie można łączyć sekwencji o \n",
    "różnych alfabetach:"
   ]
  },
  {
   "cell_type": "code",
   "execution_count": 2,
   "metadata": {},
   "outputs": [
    {
     "name": "stdout",
     "output_type": "stream",
     "text": [
      "Alphabet()\n",
      "IUPACUnambiguousDNA()\n",
      "IUPACUnambiguousDNA()\n",
      "IUPACProtein()\n"
     ]
    }
   ],
   "source": [
    "from Bio.Seq import Seq\n",
    "from Bio.Alphabet import IUPAC\n",
    "sequenceN=Seq(\"GATCGATGGGCCTATATAGGATCGAAAATCGC\")\n",
    "# alfabet obiektu\n",
    "print(sequenceN.alphabet)\n",
    "sequenceN = Seq(\"GATCGATGGGCCTATATAGGATCGAAAATCGC\", IUPAC.unambiguous_dna)\n",
    "print(sequenceN.alphabet)\n",
    "sequenceAA = Seq(\"GATCGATGGGCCTATATAGGATCGAAAATCGC\", IUPAC.protein)\n",
    "print(sequenceN.alphabet)\n",
    "print(sequenceAA.alphabet)\n",
    "# nie można łączyć sekwencji o różnych alfabetach!\n",
    "# print(sequenceN+sequenceAA)"
   ]
  },
  {
   "cell_type": "markdown",
   "metadata": {},
   "source": [
    "## Zadanie 4. Nić komplementarna"
   ]
  },
  {
   "cell_type": "code",
   "execution_count": 3,
   "metadata": {},
   "outputs": [
    {
     "name": "stdout",
     "output_type": "stream",
     "text": [
      "TACCGGTAACATTACCCGGCGACTTTCCCACGGGCTATC\n"
     ]
    }
   ],
   "source": [
    "from Bio.Seq import Seq\n",
    "from Bio.Alphabet import IUPAC\n",
    "nt_seq=Seq(\"ATGGCCATTGTAATGGGCCGCTGAAAGGGTGCCCGATAG\",IUPAC.unambiguous_dna)\n",
    "print(nt_seq.complement()) \n",
    "#uwaga ta sekwencja jest w kierunku 3' do 5'\n",
    "prot_seq=Seq(\"MVHLTPEEKSAVTALWGKVNVDEVGGEALGRLLVVYPWTQRFFE\",IUPAC.protein)\n",
    "# sekwencje białkowe nie mają komplementarnych\n",
    "# print(prot_seq.complement()) "
   ]
  },
  {
   "cell_type": "markdown",
   "metadata": {},
   "source": [
    "## Zadanie 5. Transkrypcja i translacja\n",
    "Zwróć uwagę na automatyczną zmianę alfabetu"
   ]
  },
  {
   "cell_type": "code",
   "execution_count": 4,
   "metadata": {},
   "outputs": [
    {
     "name": "stdout",
     "output_type": "stream",
     "text": [
      "ATGGCCATTGTAATGGGCCGCTGAAAGGGTGCCCGA IUPACUnambiguousDNA()\n",
      "AUGGCCAUUGUAAUGGGCCGCUGAAAGGGUGCCCGA IUPACUnambiguousRNA()\n",
      "MAIVMGR*KGAR HasStopCodon(IUPACProtein(), '*')\n",
      "MAIVMGR*KGAR HasStopCodon(IUPACProtein(), '*')\n"
     ]
    }
   ],
   "source": [
    "from Bio.Seq import Seq\n",
    "from Bio.Alphabet import IUPAC\n",
    "coding_dna=Seq(\"ATGGCCATTGTAATGGGCCGCTGAAAGGGTGCCCGA\",IUPAC.unambiguous_dna)\n",
    "print(coding_dna, coding_dna.alphabet)\n",
    "#transkrypcja\n",
    "messenger_rna = coding_dna.transcribe()\n",
    "#translacja z mRNA\n",
    "protein = messenger_rna.translate()\n",
    "#translacja prosto z DNA\n",
    "protein2 = coding_dna.translate()\n",
    "print(messenger_rna, messenger_rna.alphabet)\n",
    "print(protein, protein.alphabet)\n",
    "print(protein2, protein2.alphabet)"
   ]
  },
  {
   "cell_type": "markdown",
   "metadata": {},
   "source": [
    "## Zadanie 6. Obiekt SeqRecord"
   ]
  },
  {
   "cell_type": "code",
   "execution_count": 5,
   "metadata": {},
   "outputs": [
    {
     "name": "stdout",
     "output_type": "stream",
     "text": [
      "ID: AC12345\n",
      "Name: seqX\n",
      "Description: Homo sapiens, chr11\n",
      "Number of features: 0\n",
      "Seq('TGAGGCCCTGGGCAGGCTGCTGGTGGTCTACCC', Alphabet())\n"
     ]
    }
   ],
   "source": [
    "from Bio.Seq import Seq\n",
    "from Bio.SeqRecord import SeqRecord\n",
    "simple_seq = Seq(\"TGAGGCCCTGGGCAGGCTGCTGGTGGTCTACCC\")\n",
    "simple_seq_r = SeqRecord(simple_seq, id=\"AC12345\",name=\"seqX\",description=\"Homo sapiens, chr11\")\n",
    "print(simple_seq_r)"
   ]
  },
  {
   "cell_type": "markdown",
   "metadata": {},
   "source": [
    "Do obiektu SeqRecord możemy bardzo łatwo wczytać plik typu FASTA"
   ]
  },
  {
   "cell_type": "code",
   "execution_count": 6,
   "metadata": {},
   "outputs": [
    {
     "name": "stdout",
     "output_type": "stream",
     "text": [
      "NG_000007.3:70545-72150\n",
      "NG_000007.3:70545-72150\n",
      "NG_000007.3:70545-72150 Homo sapiens beta globin region (HBB@); and beta globin locus transcript 3 (non-protein coding) (BGLT3); and hemoglobin subunit beta (HBB); and hemoglobin subunit delta (HBD); and hemoglobin subunit epsilon 1 (HBE1); and hemoglobin subunit gamma 1 (HBG1); and hemoglobin subunit gamma 2 (HBG2), RefSeqGene on chromosome 11\n",
      "{}\n",
      "ACATTTGCTTCTGACACAACTGTGTTCACTAGCAACCTCAAACAGACACCATGGTGCATCTGACTCCTGAGGAGAAGTCTGCCGTTACTGCCCTGTGGGGCAAGGTGAACGTGGATGAAGTTGGTGGTGAGGCCCTGGGCAGGTTGGTATCAAGGTTACAAGACAGGTTTAAGGAGACCAATAGAAACTGGGCATGTGGAGACAGAGAAGACTCTTGGGTTTCTGATAGGCACTGACTCTCTCTGCCTATTGGTCTATTTTCCCACCCTTAGGCTGCTGGTGGTCTACCCTTGGACCCAGAGGTTCTTTGAGTCCTTTGGGGATCTGTCCACTCCTGATGCTGTTATGGGCAACCCTAAGGTGAAGGCTCATGGCAAGAAAGTGCTCGGTGCCTTTAGTGATGGCCTGGCTCACCTGGACAACCTCAAGGGCACCTTTGCCACACTGAGTGAGCTGCACTGTGACAAGCTGCACGTGGATCCTGAGAACTTCAGGGTGAGTCTATGGGACGCTTGATGTTTTCTTTCCCCTTCTTTTCTATGGTTAAGTTCATGTCATAGGAAGGGGATAAGTAACAGGGTACAGTTTAGAATGGGAAACAGACGAATGATTGCATCAGTGTGGAAGTCTCAGGATCGTTTTAGTTTCTTTTATTTGCTGTTCATAACAATTGTTTTCTTTTGTTTAATTCTTGCTTTCTTTTTTTTTCTTCTCCGCAATTTTTACTATTATACTTAATGCCTTAACATTGTGTATAACAAAAGGAAATATCTCTGAGATACATTAAGTAACTTAAAAAAAAACTTTACACAGTCTGCCTAGTACATTACTATTTGGAATATATGTGTGCTTATTTGCATATTCATAATCTCCCTACTTTATTTTCTTTTATTTTTAATTGATACATAATCATTATACATATTTATGGGTTAAAGTGTAATGTTTTAATATGTGTACACATATTGACCAAATCAGGGTAATTTTGCATTTGTAATTTTAAAAAATGCTTTCTTCTTTTAATATACTTTTTTGTTTATCTTATTTCTAATACTTTCCCTAATCTCTTTCTTTCAGGGCAATAATGATACAATGTATCATGCCTCTTTGCACCATTCTAAAGAATAACAGTGATAATTTCTGGGTTAAGGCAATAGCAATATCTCTGCATATAAATATTTCTGCATATAAATTGTAACTGATGTAAGAGGTTTCATATTGCTAATAGCAGCTACAATCCAGCTACCATTCTGCTTTTATTTTATGGTTGGGATAAGGCTGGATTATTCTGAGTCCAAGCTAGGCCCTTTTGCTAATCATGTTCATACCTCTTATCTTCCTCCCACAGCTCCTGGGCAACGTGCTGGTCTGTGTGCTGGCCCATCACTTTGGCAAAGAATTCACCCCACCAGTGCAGGCTGCCTATCAGAAAGTGGTGGCTGGTGTGGCTAATGCCCTGGCCCACAAGTATCACTAAGCTCGCTTTCTTGCTGTCCAATTTCTATTAAAGGTTCCTTTGTTCCCTAAGTCCAACTACTAAACTGGGGGATATTATGAAGGGCCTTGAGCATCTGGATTCTGCCTAATAAAAAACATTTATTTTCATTGC\n"
     ]
    }
   ],
   "source": [
    "from Bio import SeqIO\n",
    "record = SeqIO.read(\"data/hemoglobin1.fa\", \"fasta\")\n",
    "print(record.id)\n",
    "print(record.name)\n",
    "print(record.description)\n",
    "print(record.annotations)\n",
    "print(record.seq)"
   ]
  },
  {
   "cell_type": "markdown",
   "metadata": {},
   "source": [
    "## Zadanie 7. Zobacz jakie bazy danych są dostępne przez Bio.Entrez"
   ]
  },
  {
   "cell_type": "code",
   "execution_count": 7,
   "metadata": {},
   "outputs": [
    {
     "name": "stdout",
     "output_type": "stream",
     "text": [
      "<?xml version=\"1.0\" encoding=\"UTF-8\" ?>\n",
      "<!DOCTYPE eInfoResult PUBLIC \"-//NLM//DTD einfo 20130322//EN\" \"https://eutils.ncbi.nlm.nih.gov/eutils/dtd/20130322/einfo.dtd\">\n",
      "<eInfoResult>\n",
      "<DbList>\n",
      "\n",
      "\t<DbName>pubmed</DbName>\n",
      "\t<DbName>protein</DbName>\n",
      "\t<DbName>nuccore</DbName>\n",
      "\t<DbName>ipg</DbName>\n",
      "\t<DbName>nucleotide</DbName>\n",
      "\t<DbName>nucgss</DbName>\n",
      "\t<DbName>nucest</DbName>\n",
      "\t<DbName>structure</DbName>\n",
      "\t<DbName>sparcle</DbName>\n",
      "\t<DbName>genome</DbName>\n",
      "\t<DbName>annotinfo</DbName>\n",
      "\t<DbName>assembly</DbName>\n",
      "\t<DbName>bioproject</DbName>\n",
      "\t<DbName>biosample</DbName>\n",
      "\t<DbName>blastdbinfo</DbName>\n",
      "\t<DbName>books</DbName>\n",
      "\t<DbName>cdd</DbName>\n",
      "\t<DbName>clinvar</DbName>\n",
      "\t<DbName>clone</DbName>\n",
      "\t<DbName>gap</DbName>\n",
      "\t<DbName>gapplus</DbName>\n",
      "\t<DbName>grasp</DbName>\n",
      "\t<DbName>dbvar</DbName>\n",
      "\t<DbName>gene</DbName>\n",
      "\t<DbName>gds</DbName>\n",
      "\t<DbName>geoprofiles</DbName>\n",
      "\t<DbName>homologene</DbName>\n",
      "\t<DbName>medgen</DbName>\n",
      "\t<DbName>mesh</DbName>\n",
      "\t<DbName>ncbisearch</DbName>\n",
      "\t<DbName>nlmcatalog</DbName>\n",
      "\t<DbName>omim</DbName>\n",
      "\t<DbName>orgtrack</DbName>\n",
      "\t<DbName>pmc</DbName>\n",
      "\t<DbName>popset</DbName>\n",
      "\t<DbName>probe</DbName>\n",
      "\t<DbName>proteinclusters</DbName>\n",
      "\t<DbName>pcassay</DbName>\n",
      "\t<DbName>biosystems</DbName>\n",
      "\t<DbName>pccompound</DbName>\n",
      "\t<DbName>pcsubstance</DbName>\n",
      "\t<DbName>pubmedhealth</DbName>\n",
      "\t<DbName>seqannot</DbName>\n",
      "\t<DbName>snp</DbName>\n",
      "\t<DbName>sra</DbName>\n",
      "\t<DbName>taxonomy</DbName>\n",
      "\t<DbName>biocollections</DbName>\n",
      "\t<DbName>unigene</DbName>\n",
      "\t<DbName>gencoll</DbName>\n",
      "\t<DbName>gtr</DbName>\n",
      "</DbList>\n",
      "\n",
      "</eInfoResult>\n",
      "\n",
      "{'DbList': ['pubmed', 'protein', 'nuccore', 'ipg', 'nucleotide', 'nucgss', 'nucest', 'structure', 'sparcle', 'genome', 'annotinfo', 'assembly', 'bioproject', 'biosample', 'blastdbinfo', 'books', 'cdd', 'clinvar', 'clone', 'gap', 'gapplus', 'grasp', 'dbvar', 'gene', 'gds', 'geoprofiles', 'homologene', 'medgen', 'mesh', 'ncbisearch', 'nlmcatalog', 'omim', 'orgtrack', 'pmc', 'popset', 'probe', 'proteinclusters', 'pcassay', 'biosystems', 'pccompound', 'pcsubstance', 'pubmedhealth', 'seqannot', 'snp', 'sra', 'taxonomy', 'biocollections', 'unigene', 'gencoll', 'gtr']}\n"
     ]
    }
   ],
   "source": [
    "from Bio import Entrez\n",
    "Entrez.email = \"your_email@uj.edu.pl\"\n",
    "# przedstawiamy sie\n",
    "handle = Entrez.einfo()\n",
    "result = handle.read()\n",
    "print(result)\n",
    "# otrzymujemy XML\n",
    "handle = Entrez.einfo()\n",
    "result = Entrez.read(handle) \n",
    "# uzywajac parsera z Bio.Entrez\n",
    "print(result)\n",
    "# otrzymujemy obiekt Pythona - slownik z lista baz"
   ]
  },
  {
   "cell_type": "markdown",
   "metadata": {},
   "source": [
    "## Zadanie 8. Zobacz informacje o konkretnej bazie"
   ]
  },
  {
   "cell_type": "code",
   "execution_count": 8,
   "metadata": {},
   "outputs": [
    {
     "name": "stdout",
     "output_type": "stream",
     "text": [
      "dict_keys(['DbName', 'MenuName', 'Description', 'DbBuild', 'Count', 'LastUpdate', 'FieldList', 'LinkList'])\n",
      "Core Nucleotide db\n",
      "242043317\n",
      "2017/07/28 12:38\n",
      "ALL, All Fields, All terms from all searchable fields\n",
      "UID, UID, Unique number assigned to each sequence\n",
      "FILT, Filter, Limits the records\n",
      "WORD, Text Word, Free text associated with record\n",
      "TITL, Title, Words in definition line\n",
      "KYWD, Keyword, Nonstandardized terms provided by submitter\n",
      "AUTH, Author, Author(s) of publication\n",
      "JOUR, Journal, Journal abbreviation of publication\n",
      "VOL, Volume, Volume number of publication\n",
      "ISS, Issue, Issue number of publication\n",
      "PAGE, Page Number, Page number(s) of publication\n",
      "ORGN, Organism, Scientific and common names of organism, and all higher levels of taxonomy\n",
      "ACCN, Accession, Accession number of sequence\n",
      "PACC, Primary Accession, Does not include retired secondary accessions\n",
      "GENE, Gene Name, Name of gene associated with sequence\n",
      "PROT, Protein Name, Name of protein associated with sequence\n",
      "ECNO, EC/RN Number, EC number for enzyme or CAS registry number\n",
      "PDAT, Publication Date, Date sequence added to GenBank\n",
      "MDAT, Modification Date, Date of last update\n",
      "SUBS, Substance Name, CAS chemical name or MEDLINE Substance Name\n",
      "PROP, Properties, Classification by source qualifiers and molecule type\n",
      "SQID, SeqID String, String identifier for sequence\n",
      "GPRJ, BioProject, BioProject\n",
      "SLEN, Sequence Length, Length of sequence\n",
      "FKEY, Feature key, Feature annotated on sequence\n",
      "PORG, Primary Organism, Scientific and common names of primary organism, and all higher levels of taxonomy\n",
      "COMP, Component Accession, Component accessions for an assembly\n",
      "ASSM, Assembly, Assembly\n",
      "DIV, Division, Division\n",
      "STRN, Strain, Strain\n",
      "ISOL, Isolate, Isolate\n",
      "CULT, Cultivar, Cultivar\n",
      "BRD, Breed, Breed\n",
      "BIOS, BioSample, BioSample\n"
     ]
    }
   ],
   "source": [
    "handle = Entrez.einfo(db=\"nucleotide\")\n",
    "result = Entrez.read(handle)\n",
    "print(result[\"DbInfo\"].keys())\n",
    "print(result[\"DbInfo\"][\"Description\"])\n",
    "print(result[\"DbInfo\"][\"Count\"])\n",
    "print(result[\"DbInfo\"][\"LastUpdate\"])\n",
    "for field in result[\"DbInfo\"][\"FieldList\"]: \n",
    "    print(\"%(Name)s, %(FullName)s, %(Description)s\" % field)"
   ]
  },
  {
   "cell_type": "markdown",
   "metadata": {},
   "source": [
    "Sprawdź informacje dla innych baz np. protein, structure bądź pubmed."
   ]
  },
  {
   "cell_type": "code",
   "execution_count": 9,
   "metadata": {},
   "outputs": [
    {
     "name": "stdout",
     "output_type": "stream",
     "text": [
      "dict_keys(['DbName', 'MenuName', 'Description', 'DbBuild', 'Count', 'LastUpdate', 'FieldList', 'LinkList'])\n",
      "Protein sequence record\n",
      "412823586\n",
      "2017/07/24 19:00\n",
      "ALL, All Fields, All terms from all searchable fields\n",
      "UID, UID, Unique number assigned to each sequence\n",
      "FILT, Filter, Limits the records\n",
      "WORD, Text Word, Free text associated with record\n",
      "TITL, Title, Words in definition line\n",
      "KYWD, Keyword, Nonstandardized terms provided by submitter\n",
      "AUTH, Author, Author(s) of publication\n",
      "JOUR, Journal, Journal abbreviation of publication\n",
      "VOL, Volume, Volume number of publication\n",
      "ISS, Issue, Issue number of publication\n",
      "PAGE, Page Number, Page number(s) of publication\n",
      "ORGN, Organism, Scientific and common names of organism, and all higher levels of taxonomy\n",
      "ACCN, Accession, Accession number of sequence\n",
      "PACC, Primary Accession, Does not include retired secondary accessions\n",
      "GENE, Gene Name, Name of gene associated with sequence\n",
      "PROT, Protein Name, Name of protein associated with sequence\n",
      "ECNO, EC/RN Number, EC number for enzyme or CAS registry number\n",
      "PDAT, Publication Date, Date sequence added to GenBank\n",
      "MDAT, Modification Date, Date of last update\n",
      "SUBS, Substance Name, CAS chemical name or MEDLINE Substance Name\n",
      "PROP, Properties, Classification by source qualifiers and molecule type\n",
      "SQID, SeqID String, String identifier for sequence\n",
      "GPRJ, BioProject, BioProject\n",
      "SLEN, Sequence Length, Length of sequence\n",
      "MLWT, Molecular Weight, Molecular Weight\n",
      "FKEY, Feature key, Feature annotated on sequence\n",
      "PORG, Primary Organism, Scientific and common names of primary organism, and all higher levels of taxonomy\n",
      "ASSM, Assembly, Assembly\n",
      "DIV, Division, Division\n",
      "STRN, Strain, Strain\n",
      "ISOL, Isolate, Isolate\n",
      "CULT, Cultivar, Cultivar\n",
      "BRD, Breed, Breed\n"
     ]
    }
   ],
   "source": [
    "handle = Entrez.einfo(db=\"protein\")\n",
    "result = Entrez.read(handle)\n",
    "print(result[\"DbInfo\"].keys())\n",
    "print(result[\"DbInfo\"][\"Description\"])\n",
    "print(result[\"DbInfo\"][\"Count\"])\n",
    "print(result[\"DbInfo\"][\"LastUpdate\"])\n",
    "for field in result[\"DbInfo\"][\"FieldList\"]: \n",
    "    print(\"%(Name)s, %(FullName)s, %(Description)s\" % field)"
   ]
  },
  {
   "cell_type": "markdown",
   "metadata": {},
   "source": [
    "## Zadanie 9. Wyszukaj rekordy z bazy nucleotide, które posiadają związek z wirusem świńskiej grypy"
   ]
  },
  {
   "cell_type": "code",
   "execution_count": 10,
   "metadata": {},
   "outputs": [
    {
     "name": "stdout",
     "output_type": "stream",
     "text": [
      "['1219400587', '1219400585', '1219400583', '1219400580', '1219400577', '1219400575', '1219400573', '1219400571', '1219400568', '1219400566']\n"
     ]
    }
   ],
   "source": [
    "handle = Entrez.esearch(db=\"nucleotide\",term=\"swine influenza\",retmax=\"10\")\n",
    "result = Entrez.read(handle)\n",
    "print(result[\"IdList\"])"
   ]
  },
  {
   "cell_type": "markdown",
   "metadata": {},
   "source": [
    "Parametr „retmax” określa maksymalną liczbę zwracanych rezultatów. \n",
    "Wyszukaj te same rekordy przez przegladarkę, zobacz jakiemu polu rekordu odpowiadają unikalne numery sekwencji nukleotydowych, zwrócone \n",
    "w tym zapytaniu.\n",
    "Używając  AND,  OR  i  NOT  oraz  pól  z  FieldList  znalezionych  wcześniej  przez EInfo, możemy rozbudować zapytanie, np.:"
   ]
  },
  {
   "cell_type": "code",
   "execution_count": 11,
   "metadata": {
    "collapsed": true
   },
   "outputs": [],
   "source": [
    "term = \"influenza AND H1N1[TITL] AND (hemagglutinin[PROT] OR neuraminidase[PROT])\""
   ]
  },
  {
   "cell_type": "markdown",
   "metadata": {},
   "source": [
    "wyszuka  wszystkie  rekordy  czyli  sekwencje  nukleotydowe,  które  w  którymkolwiek  polu zawierają słowo „influenza”, zawierają w tytule „H1N1” i kodują białka hemagglutinin bądź \n",
    "neuraminidase (są to dwa bardzo ważne białka obecne na powierzchni wirusa, są one często celem leków przeciwwirusowych, od\n",
    "ich typów wirusy grypy biorą swoje nazwy - np. H1N1)\n",
    "\n",
    "Wymyśl  i  wypróbuj  jakieś  swoje  zapytanie,  używając  spójników  i  pól  wyszukiwania  z \n",
    "FieldList\n",
    "(może być dla innej bazy niż nucleotide)."
   ]
  },
  {
   "cell_type": "code",
   "execution_count": 12,
   "metadata": {},
   "outputs": [
    {
     "name": "stdout",
     "output_type": "stream",
     "text": [
      "['8927539', '8927537', '8927535', '8927533', '8927531', '8927529', '8927527', '8927525', '8927523', '8927521']\n"
     ]
    }
   ],
   "source": [
    "myterm = \"Avian influenza AND (H2N2[TITL] OR glycoprotein[PROT])\"\n",
    "handle = Entrez.esearch(db=\"nucleotide\", term = myterm, retmax=\"10\")\n",
    "result = Entrez.read(handle)\n",
    "print(result[\"IdList\"])"
   ]
  },
  {
   "cell_type": "markdown",
   "metadata": {},
   "source": [
    "## Zadanie 10. Za pomocą ESummary pobierz informację podsumowującą o rekordzie\n",
    "\n",
    "Zmodyfikuj poprzedni przykład używając:\n",
    "\n",
    "    handle  =  Entrez.esummary(db=\"nucleotide\",  id=\"326579398\") # pojedynczy rekord\n",
    "\n",
    "Można też pobrać info o wielu rekordach, podając na wejściu listę identyfikatorów.\n",
    "\n",
    "    handle = Entrez.esummary(db=\"nucleotide\", id=\",\".join(result[\"IdList\"])) #lista rekordow\n",
    "\n",
    "Otrzymujemy  wówczas  listę  słowników – w  każdym  słowniku  jest  informacja  o  jednym rekordzie, którą można wypisać np. tak:\n",
    "\n",
    "    result = Entrez.read(handle)\n",
    "    for record in result:\n",
    "        print(\"%(Title)s, %(Gi)s, %(Length)s %(CreateDate)s\" % record)"
   ]
  },
  {
   "cell_type": "code",
   "execution_count": 13,
   "metadata": {},
   "outputs": [
    {
     "name": "stdout",
     "output_type": "stream",
     "text": [
      "Influenza A virus isolate A/Chile/6/57 (H2N2)) hemagglutinin gene, partial cds, 8927539, 1017 2000/07/06\n",
      "Influenza A virus isolate A/Ohio/2/59 (H2N2)) hemagglutinin gene, partial cds, 8927537, 1017 2000/07/06\n",
      "Influenza A virus isolate A/Victoria/15681/59 (H2N2)) hemagglutinin gene, partial cds, 8927535, 1017 2000/07/06\n",
      "Influenza A virus isolate A/Sao Paolo/3/59 (H2N2)) hemagglutinin gene, partial cds, 8927533, 1017 2000/07/06\n",
      "Influenza A virus isolate A/Malaya/16/58 (H2N2)) hemagglutinin gene, partial cds, 8927531, 1017 2000/07/06\n",
      "Influenza A virus isolate A/Albany/6/58 (H2N2)) hemagglutinin gene, partial cds, 8927529, 1017 2000/07/06\n",
      "Influenza A virus isolate A/RI/5+/57 (H2N2)) hemagglutinin gene, partial cds, 8927527, 1017 2000/07/06\n",
      "Influenza A virus isolate A/Ann Arbor/6/60 (H2N2)) hemagglutinin gene, partial cds, 8927525, 1017 2000/07/06\n",
      "Influenza A virus isolate A/Albany/7/57 (H2N2)) hemagglutinin gene, partial cds, 8927523, 1017 2000/07/06\n",
      "Influenza A virus isolate A/Davis/1/57 (H2N2)) hemagglutinin gene, partial cds, 8927521, 1017 2000/07/06\n"
     ]
    }
   ],
   "source": [
    "handle = Entrez.esummary(db=\"nucleotide\", id=\",\".join(result[\"IdList\"])) #lista rekordow\n",
    "result = Entrez.read(handle)\n",
    "for record in result:\n",
    "    print(\"%(Title)s, %(Gi)s, %(Length)s %(CreateDate)s\" % record)"
   ]
  },
  {
   "cell_type": "markdown",
   "metadata": {},
   "source": [
    "## Zadanie 11. Pobierz cały rekord"
   ]
  },
  {
   "cell_type": "markdown",
   "metadata": {},
   "source": [
    "Aby pobrać cały rekord korzystamy z EFetch, możemy też wybrać inny format niż XML, np. podstawowe formaty jak genbank, fasta, genpept dla bazy Protein (dokładny opis formatów:\n",
    "www.ncbi.nlm.nih.gov/entrez/query/static/efetchseq_help.html)"
   ]
  },
  {
   "cell_type": "code",
   "execution_count": 14,
   "metadata": {},
   "outputs": [
    {
     "name": "stdout",
     "output_type": "stream",
     "text": [
      "LOCUS       JF703685                2177 bp    cRNA    linear   VRL 30-NOV-2011\n",
      "DEFINITION  Influenza A virus (A/swine/Quebec/1265553/2010(H3N2)) segment 3\n",
      "            polymerase PA (PA) gene, complete cds.\n",
      "ACCESSION   JF703685\n",
      "VERSION     JF703685.1\n",
      "KEYWORDS    .\n",
      "SOURCE      Influenza A virus (A/swine/Quebec/1265553/2010(H3N2))\n",
      "  ORGANISM  Influenza A virus (A/swine/Quebec/1265553/2010(H3N2))\n",
      "            Viruses; ssRNA viruses; ssRNA negative-strand viruses;\n",
      "            Orthomyxoviridae; Influenzavirus A.\n",
      "REFERENCE   1  (bases 1 to 2177)\n",
      "  AUTHORS   Tremblay,D., Allard,V., Doyon,J.F., Bellehumeur,C., Spearman,J.G.,\n",
      "            Harel,J. and Gagnon,C.A.\n",
      "  TITLE     Emergence of a New Swine H3N2 and Pandemic (H1N1) 2009 Influenza A\n",
      "            Virus Reassortant in Two Canadian Animal Populations, Mink and\n",
      "            Swine\n",
      "  JOURNAL   J. Clin. Microbiol. 49 (12), 4386-4390 (2011)\n",
      "   PUBMED   22012020\n",
      "REFERENCE   2  (bases 1 to 2177)\n",
      "  AUTHORS   Tremblay,D., Allard,V., Harel,J. and Gagnon,C.A.\n",
      "  TITLE     Direct Submission\n",
      "  JOURNAL   Submitted (17-MAR-2011) Faculte de Medecine Veterinaire, Universite\n",
      "            de Montreal, 3200 rue Sicotte, St-Hyacinthe, Quebec J2S 7C6, Canada\n",
      "COMMENT     GenBank Accession Numbers JF682719-JF682724, JF703684, JF703685\n",
      "            represent sequences from the 8 segments of Influenza A virus\n",
      "            (A/swine/Quebec/1265553/2010(H3N2)).\n",
      "FEATURES             Location/Qualifiers\n",
      "     source          1..2177\n",
      "                     /organism=\"Influenza A virus\n",
      "                     (A/swine/Quebec/1265553/2010(H3N2))\"\n",
      "                     /mol_type=\"viral cRNA\"\n",
      "                     /strain=\"A/swine/Quebec/1265553/2010\"\n",
      "                     /serotype=\"H3N2\"\n",
      "                     /isolate=\"FMV10-1265553\"\n",
      "                     /isolation_source=\"lung\"\n",
      "                     /host=\"swine\"\n",
      "                     /db_xref=\"taxon:997457\"\n",
      "                     /segment=\"3\"\n",
      "                     /country=\"Canada\"\n",
      "                     /collection_date=\"22-Dec-2010\"\n",
      "     gene            5..2155\n",
      "                     /gene=\"PA\"\n",
      "     CDS             5..2155\n",
      "                     /gene=\"PA\"\n",
      "                     /codon_start=1\n",
      "                     /product=\"polymerase PA\"\n",
      "                     /protein_id=\"ADZ96204.1\"\n",
      "                     /translation=\"MEDFVRQCFNPMIVELAEKAMKEYGEDPKIETNKFAAICTHLEV\n",
      "                     CFMYSDFHFIDERGESIIVESGDPNALLKHRFEIIEGRDRIMAWTVVNSICNTTGVEK\n",
      "                     PKFLPDLYDYKENRFIEIGVTRREVHIYYLEKANKIKSEKTHIHIFSFTGEEMATKAD\n",
      "                     YTLDEESRARIKTRLFTIRQEMASRSLWDSFRQSERGEETIEEKFEIKGTMRKLADQS\n",
      "                     LPPNFSSLENFRAYVDGFEPNGCIEGKLSQMSKEVNAKIEPFLRTTPRPLRLPGGPLC\n",
      "                     HQRSKFLLMDALKLSIEDPSHEGEGIPLYDAIKCMKTFFGWKEPNIVKPHEKGINPNY\n",
      "                     LMAWKQVLAELQDIENEEKIPRTKNMKRTSQLKWALGENMAPEKVDFDDCKDVGDLKQ\n",
      "                     YDSDEPEPRSLASWVQNEFNKACELTDSSWIELDEIGEDLAPIEQFASMRRNYFTAEV\n",
      "                     SHCRATEYIMKGVYINTALLNASCAAMDDFQLIPMISKCRTKEGRRKTNLYGFIIKGR\n",
      "                     SHLRNDTDVVNFVSMEFSLTDPRLEPHKWEKYCVLEIGDMLLRTAIGQVSRPMFLYVR\n",
      "                     TNGTSKIKMKWGMEMRRCLLQSLQQIESMIEAESSVKEKDMTKEFFENKSETWPIGES\n",
      "                     PRGVEEGSIGKVCRTLLAKSVFNSLYASPQLEGFSAESRKLLLIVQALRDNLEPGTFD\n",
      "                     LGGLYEAIEECLINDPWVLLNASWFNSFLTHALK\"\n",
      "ORIGIN      \n",
      "        1 caaaatggaa gactttgtgc gacaatgctt caatccaatg atcgtcgagc ttgcggaaaa\n",
      "       61 ggcaatgaaa gaatatgggg aagatccgaa aatcgaaact aacaagtttg ctgcaatatg\n",
      "      121 cacacatttg gaagtttgtt tcatgtattc ggatttccat ttcatcgacg aacgaggtga\n",
      "      181 atcaataatt gtagaatctg gtgacccgaa tgcactattg aagcaccgat ttgagataat\n",
      "      241 tgaaggaaga gaccgaatca tggcctggac agtggtgaac agtatatgta acacaacagg\n",
      "      301 ggtagagaag cctaaatttc ttcctgattt gtatgattac aaagagaacc ggttcattga\n",
      "      361 aattggagta acacggaggg aagtccacat atattaccta gagaaagcca acaaaataaa\n",
      "      421 atctgagaag acacacattc acatcttttc attcactgga gaggagatgg ccaccaaagc\n",
      "      481 ggactacacc cttgacgaag agagcagggc aagaatcaaa actaggcttt tcactataag\n",
      "      541 acaagaaatg gccagtagga gtctatggga ttcctttcgt cagtccgaaa gaggcgaaga\n",
      "      601 gacaattgaa gaaaaatttg agattaaagg aactatgcgc aagcttgccg accaaagtct\n",
      "      661 cccaccgaac ttctccagcc ttgaaaactt tagagcctat gtagatggat tcgagccgaa\n",
      "      721 cggctgcatt gagggcaagc tttcccaaat gtcaaaagaa gtgaacgcca aaattgaacc\n",
      "      781 attcttgagg acgacaccac gccccctcag attgcctggt gggcctcttt gccatcagcg\n",
      "      841 gtcaaagttc ctgctgatgg atgctctgaa attaagtatt gaagacccga gtcacgaggg\n",
      "      901 ggagggaata ccactatatg atgcaatcaa atgcatgaag acattctttg gctggaaaga\n",
      "      961 gcctaacata gtcaaaccac atgaaaaagg cataaacccc aattacctca tggcttggaa\n",
      "     1021 gcaggtgcta gcagagctac aggacattga aaatgaggag aagatcccaa ggacaaagaa\n",
      "     1081 catgaagaga acaagccaat tgaagtgggc actcggtgaa aatatggcac cagaaaaagt\n",
      "     1141 agactttgat gactgcaaag atgttggaga ccttaaacag tatgacagtg atgagccaga\n",
      "     1201 gcccagatct ctagcaagct gggtccaaaa tgaattcaat aaggcatgtg aattgactga\n",
      "     1261 ttcaagctgg atagaacttg atgaaatagg agaagatctt gccccgatcg aacaattcgc\n",
      "     1321 aagcatgagg aggaactatt ttacagcaga agtgtcccac tgcagggcta ctgaatacat\n",
      "     1381 aatgaaggga gtgtacataa atacagcctt gctcaatgca tcctgtgcag ccatggatga\n",
      "     1441 ctttcagctg atcccaatga taagtaaatg tagaaccaaa gaaggaaggc ggaaaacaaa\n",
      "     1501 cctgtatggg ttcattataa aaggaaggtc tcatttgaga aatgatactg atgtggtgaa\n",
      "     1561 ctttgtaagt atggagttct cactcactga cccgagactg gagccacaca aatgggaaaa\n",
      "     1621 atactgtgtt cttgaaatag gagacatgct cttgaggact gcgataggcc aagtgtcgag\n",
      "     1681 gcccatgttc ctatatgtga gaaccaatgg aacctccaag atcaagatga aatggggcat\n",
      "     1741 ggaaatgagg cgctgccttc ttcagtctct tcagcagatt gagagcatga ttgaggccga\n",
      "     1801 gtcctctgtc aaagagaaag acatgaccaa ggaattcttt gaaaacaaat cggaaacatg\n",
      "     1861 gccaatcgga gagtcaccca ggggagtgga ggaaggctct attgggaaag tgtgcaggac\n",
      "     1921 cttactggca aaatctgtat tcaacagtct atatgcgtct ccacaacttg aggggttttc\n",
      "     1981 ggcagagtcg agaaaattgc ttctcattgt tcaggcgctt agggacaacc tggaacctgg\n",
      "     2041 aaccttcgat cttggggggc tatatgaagc aatcgaggag tgcctgatta atgatccctg\n",
      "     2101 ggttttgctt aatgcatctt ggttcaactc cttcctcaca catgcactga agtagttgtg\n",
      "     2161 gcaagtgctc actatgc\n",
      "//\n",
      "\n",
      "\n"
     ]
    }
   ],
   "source": [
    "handle = Entrez.efetch(db=\"nucleotide\", id=\"326579398\", rettype=\"gb\", retmode=\"text\")\n",
    "print(handle.read())"
   ]
  },
  {
   "cell_type": "markdown",
   "metadata": {},
   "source": [
    "Plik w odpowiednim formacie możemy od razu wczytać do obiektu sekwencji SeqRecord:"
   ]
  },
  {
   "cell_type": "code",
   "execution_count": 15,
   "metadata": {},
   "outputs": [
    {
     "name": "stdout",
     "output_type": "stream",
     "text": [
      "JF703685\n",
      "Influenza A virus (A/swine/Quebec/1265553/2010(H3N2)) segment 3 polymerase PA (PA) gene, complete cds\n",
      "CAAAATGGAAGACTTTGTGCGACAATGCTTCAATCCAATGATCGTCGAGCTTGCGGAAAAGGCAATGAAAGAATATGGGGAAGATCCGAAAATCGAAACTAACAAGTTTGCTGCAATATGCACACATTTGGAAGTTTGTTTCATGTATTCGGATTTCCATTTCATCGACGAACGAGGTGAATCAATAATTGTAGAATCTGGTGACCCGAATGCACTATTGAAGCACCGATTTGAGATAATTGAAGGAAGAGACCGAATCATGGCCTGGACAGTGGTGAACAGTATATGTAACACAACAGGGGTAGAGAAGCCTAAATTTCTTCCTGATTTGTATGATTACAAAGAGAACCGGTTCATTGAAATTGGAGTAACACGGAGGGAAGTCCACATATATTACCTAGAGAAAGCCAACAAAATAAAATCTGAGAAGACACACATTCACATCTTTTCATTCACTGGAGAGGAGATGGCCACCAAAGCGGACTACACCCTTGACGAAGAGAGCAGGGCAAGAATCAAAACTAGGCTTTTCACTATAAGACAAGAAATGGCCAGTAGGAGTCTATGGGATTCCTTTCGTCAGTCCGAAAGAGGCGAAGAGACAATTGAAGAAAAATTTGAGATTAAAGGAACTATGCGCAAGCTTGCCGACCAAAGTCTCCCACCGAACTTCTCCAGCCTTGAAAACTTTAGAGCCTATGTAGATGGATTCGAGCCGAACGGCTGCATTGAGGGCAAGCTTTCCCAAATGTCAAAAGAAGTGAACGCCAAAATTGAACCATTCTTGAGGACGACACCACGCCCCCTCAGATTGCCTGGTGGGCCTCTTTGCCATCAGCGGTCAAAGTTCCTGCTGATGGATGCTCTGAAATTAAGTATTGAAGACCCGAGTCACGAGGGGGAGGGAATACCACTATATGATGCAATCAAATGCATGAAGACATTCTTTGGCTGGAAAGAGCCTAACATAGTCAAACCACATGAAAAAGGCATAAACCCCAATTACCTCATGGCTTGGAAGCAGGTGCTAGCAGAGCTACAGGACATTGAAAATGAGGAGAAGATCCCAAGGACAAAGAACATGAAGAGAACAAGCCAATTGAAGTGGGCACTCGGTGAAAATATGGCACCAGAAAAAGTAGACTTTGATGACTGCAAAGATGTTGGAGACCTTAAACAGTATGACAGTGATGAGCCAGAGCCCAGATCTCTAGCAAGCTGGGTCCAAAATGAATTCAATAAGGCATGTGAATTGACTGATTCAAGCTGGATAGAACTTGATGAAATAGGAGAAGATCTTGCCCCGATCGAACAATTCGCAAGCATGAGGAGGAACTATTTTACAGCAGAAGTGTCCCACTGCAGGGCTACTGAATACATAATGAAGGGAGTGTACATAAATACAGCCTTGCTCAATGCATCCTGTGCAGCCATGGATGACTTTCAGCTGATCCCAATGATAAGTAAATGTAGAACCAAAGAAGGAAGGCGGAAAACAAACCTGTATGGGTTCATTATAAAAGGAAGGTCTCATTTGAGAAATGATACTGATGTGGTGAACTTTGTAAGTATGGAGTTCTCACTCACTGACCCGAGACTGGAGCCACACAAATGGGAAAAATACTGTGTTCTTGAAATAGGAGACATGCTCTTGAGGACTGCGATAGGCCAAGTGTCGAGGCCCATGTTCCTATATGTGAGAACCAATGGAACCTCCAAGATCAAGATGAAATGGGGCATGGAAATGAGGCGCTGCCTTCTTCAGTCTCTTCAGCAGATTGAGAGCATGATTGAGGCCGAGTCCTCTGTCAAAGAGAAAGACATGACCAAGGAATTCTTTGAAAACAAATCGGAAACATGGCCAATCGGAGAGTCACCCAGGGGAGTGGAGGAAGGCTCTATTGGGAAAGTGTGCAGGACCTTACTGGCAAAATCTGTATTCAACAGTCTATATGCGTCTCCACAACTTGAGGGGTTTTCGGCAGAGTCGAGAAAATTGCTTCTCATTGTTCAGGCGCTTAGGGACAACCTGGAACCTGGAACCTTCGATCTTGGGGGGCTATATGAAGCAATCGAGGAGTGCCTGATTAATGATCCCTGGGTTTTGCTTAATGCATCTTGGTTCAACTCCTTCCTCACACATGCACTGAAGTAGTTGTGGCAAGTGCTCACTATGC\n"
     ]
    }
   ],
   "source": [
    "from Bio import SeqIO\n",
    "handle = Entrez.efetch(db=\"nucleotide\", id=\"326579398\", rettype=\"gb\", retmode=\"text\")\n",
    "record = SeqIO.read(handle, \"genbank\")\n",
    "print(record.name)\n",
    "print(record.description)\n",
    "print(record.seq)"
   ]
  },
  {
   "cell_type": "markdown",
   "metadata": {},
   "source": [
    "## Zadanie 12. Historia sesji\n",
    "NCBI  zapewnia  możliwość  korzystania  z  historii  sesji,  stąd  można  usprawnić  proces wyszukiwania  i\n",
    "ściągania  sekwencji  za  pomocą ESearch i EFetch,  tak  by  robić  do  bez podawania listy uzyskanych ID, wykonując \n",
    "ESearch użyjmy opcji usehistory,  dostaniemy dwie nowe pozycje - klucz zapytania i ciasteczko sesji:"
   ]
  },
  {
   "cell_type": "code",
   "execution_count": 16,
   "metadata": {},
   "outputs": [
    {
     "name": "stdout",
     "output_type": "stream",
     "text": [
      "1\n",
      "NCID_1_31888426_130.14.22.215_9001_1501289902_1075383314_0MetA0_S_MegaStore_F_1\n"
     ]
    }
   ],
   "source": [
    "handle = Entrez.esearch(db=\"protein\", term=\"Homo sapiens[orgn] and rhodopsin\", usehistory=\"y\")\n",
    "result = Entrez.read(handle)\n",
    "querykey = result['QueryKey']\n",
    "webenv = result['WebEnv']\n",
    "print(querykey)\n",
    "print(webenv)"
   ]
  },
  {
   "cell_type": "markdown",
   "metadata": {},
   "source": [
    "Możemy  ich  teraz  użyć  bezpośrednio  w EFetch, ponieważ  z  reguły  wyniki  takiego wyszukiwania będą bardzo duże, możemy wybrać zakres rekordów, który chcemy obejrzeć \n",
    "przez retstart i retmax."
   ]
  },
  {
   "cell_type": "code",
   "execution_count": 17,
   "metadata": {
    "scrolled": true
   },
   "outputs": [
    {
     "name": "stdout",
     "output_type": "stream",
     "text": [
      "LOCUS       NP_005293                613 aa            linear   PRI 19-JUL-2017\n",
      "DEFINITION  prosaposin receptor GPR37 precursor [Homo sapiens].\n",
      "ACCESSION   NP_005293\n",
      "VERSION     NP_005293.1\n",
      "DBSOURCE    REFSEQ: accession NM_005302.4\n",
      "KEYWORDS    RefSeq.\n",
      "SOURCE      Homo sapiens (human)\n",
      "  ORGANISM  Homo sapiens\n",
      "            Eukaryota; Metazoa; Chordata; Craniata; Vertebrata; Euteleostomi;\n",
      "            Mammalia; Eutheria; Euarchontoglires; Primates; Haplorrhini;\n",
      "            Catarrhini; Hominidae; Homo.\n",
      "REFERENCE   1  (residues 1 to 613)\n",
      "  AUTHORS   Berger BS, Acebron SP, Herbst J, Koch S and Niehrs C.\n",
      "  TITLE     Parkinson's disease-associated receptor GPR37 is an ER chaperone\n",
      "            for LRP6\n",
      "  JOURNAL   EMBO Rep. 18 (5), 712-725 (2017)\n",
      "   PUBMED   28341812\n",
      "REFERENCE   2  (residues 1 to 613)\n",
      "  AUTHORS   Tanabe Y, Fujita-Jimbo E, Momoi MY and Momoi T.\n",
      "  TITLE     CASPR2 forms a complex with GPR37 via MUPP1 but not with\n",
      "            GPR37(R558Q), an autism spectrum disorder-related mutation\n",
      "  JOURNAL   J. Neurochem. 134 (4), 783-793 (2015)\n",
      "   PUBMED   25977097\n",
      "  REMARK    GeneRIF: GPR37 was shown to be a component of the CASPR2-MUPP1\n",
      "            complex in brain.\n",
      "REFERENCE   3  (residues 1 to 613)\n",
      "  AUTHORS   Liu F, Zhu C, Huang X, Cai J, Wang H, Wang X, He S, Liu C, Yang X,\n",
      "            Zhang Y and Zhang T.\n",
      "  TITLE     A low level of GPR37 is associated with human hepatocellular\n",
      "            carcinoma progression and poor patient survival\n",
      "  JOURNAL   Pathol. Res. Pract. 210 (12), 885-892 (2014)\n",
      "   PUBMED   25169131\n",
      "  REMARK    GeneRIF: GPR37 may play an important role in the pathogenesis of\n",
      "            hepatocellular carcinoma by affecting the proliferation of HCC\n",
      "            cells.\n",
      "REFERENCE   4  (residues 1 to 613)\n",
      "  AUTHORS   Huang X, Wang Y, Nan X, He S, Xu X, Zhu X, Tang J, Yang X, Yao L,\n",
      "            Wang X and Cheng C.\n",
      "  TITLE     The role of the orphan G protein-coupled receptor 37 (GPR37) in\n",
      "            multiple myeloma cells\n",
      "  JOURNAL   Leuk. Res. 38 (2), 225-235 (2014)\n",
      "   PUBMED   24290813\n",
      "  REMARK    GeneRIF: Positive role of GPR37 in the proliferation of multiple\n",
      "            myeloma cells.\n",
      "REFERENCE   5  (residues 1 to 613)\n",
      "  AUTHORS   Luciano M, Evans DM, Hansell NK, Medland SE, Montgomery GW, Martin\n",
      "            NG, Wright MJ and Bates TC.\n",
      "  TITLE     A genome-wide association study for reading and language abilities\n",
      "            in two population cohorts\n",
      "  JOURNAL   Genes Brain Behav. 12 (6), 645-652 (2013)\n",
      "   PUBMED   23738518\n",
      "REFERENCE   6  (residues 1 to 613)\n",
      "  AUTHORS   Imai Y, Soda M, Hatakeyama S, Akagi T, Hashikawa T, Nakayama KI and\n",
      "            Takahashi R.\n",
      "  TITLE     CHIP is associated with Parkin, a gene responsible for familial\n",
      "            Parkinson's disease, and enhances its ubiquitin ligase activity\n",
      "  JOURNAL   Mol. Cell 10 (1), 55-67 (2002)\n",
      "   PUBMED   12150907\n",
      "REFERENCE   7  (residues 1 to 613)\n",
      "  AUTHORS   Imai Y, Soda M, Inoue H, Hattori N, Mizuno Y and Takahashi R.\n",
      "  TITLE     An unfolded putative transmembrane polypeptide, which can lead to\n",
      "            endoplasmic reticulum stress, is a substrate of Parkin\n",
      "  JOURNAL   Cell 105 (7), 891-902 (2001)\n",
      "   PUBMED   11439185\n",
      "REFERENCE   8  (residues 1 to 613)\n",
      "  AUTHORS   Donohue PJ, Shapira H, Mantey SA, Hampton LL, Jensen RT and Battey\n",
      "            JF.\n",
      "  TITLE     A human gene encodes a putative G protein-coupled receptor highly\n",
      "            expressed in the central nervous system\n",
      "  JOURNAL   Brain Res. Mol. Brain Res. 54 (1), 152-160 (1998)\n",
      "   PUBMED   9526070\n",
      "REFERENCE   9  (residues 1 to 613)\n",
      "  AUTHORS   Marazziti D, Golini E, Gallo A, Lombardi MS, Matteoni R and\n",
      "            Tocchini-Valentini GP.\n",
      "  TITLE     Cloning of GPR37, a gene located on chromosome 7 encoding a\n",
      "            putative G-protein-coupled peptide receptor, from a human frontal\n",
      "            brain EST library\n",
      "  JOURNAL   Genomics 45 (1), 68-77 (1997)\n",
      "   PUBMED   9339362\n",
      "REFERENCE   10 (residues 1 to 613)\n",
      "  AUTHORS   Zeng Z, Su K, Kyaw H and Li Y.\n",
      "  TITLE     A novel endothelin receptor type-B-like gene enriched in the brain\n",
      "  JOURNAL   Biochem. Biophys. Res. Commun. 233 (2), 559-567 (1997)\n",
      "   PUBMED   9144577\n",
      "COMMENT     REVIEWED REFSEQ: This record has been curated by NCBI staff. The\n",
      "            reference sequence was derived from AC004925.1 and AF017262.1.\n",
      "            \n",
      "            Summary: This gene is a member of the G protein-coupled receptor\n",
      "            family. The encoded protein contains seven transmembrane domains\n",
      "            and is found in cell and endoplasmic reticulum membranes. G\n",
      "            protein-coupled receptors are involved in translating outside\n",
      "            signals into G protein mediated intracellular effects. This gene\n",
      "            product interacts with Parkin and is involved in juvenile Parkinson\n",
      "            disease. [provided by RefSeq, Oct 2012].\n",
      "            \n",
      "            Sequence Note: This RefSeq record was created from transcript and\n",
      "            genomic sequence data to make the sequence consistent with the\n",
      "            reference genome assembly. The genomic coordinates used for the\n",
      "            transcript record were based on transcript alignments.\n",
      "            \n",
      "            Publication Note:  This RefSeq record includes a subset of the\n",
      "            publications that are available for this gene. Please see the Gene\n",
      "            record to access additional publications.\n",
      "FEATURES             Location/Qualifiers\n",
      "     source          1..613\n",
      "                     /organism=\"Homo sapiens\"\n",
      "                     /db_xref=\"taxon:9606\"\n",
      "                     /chromosome=\"7\"\n",
      "                     /map=\"7q31.33\"\n",
      "     Protein         1..613\n",
      "                     /product=\"prosaposin receptor GPR37 precursor\"\n",
      "                     /note=\"Parkin-associated endothelin receptor-like\n",
      "                     receptor; G protein-coupled receptor 37 (endothelin\n",
      "                     receptor type B-like); probable G-protein coupled receptor\n",
      "                     37; ETBR-LP-1; endothelin B receptor-like protein 1;\n",
      "                     prosaposin receptor GPR37\"\n",
      "     sig_peptide     1..26\n",
      "                     /experiment=\"experimental evidence, no additional details\n",
      "                     recorded\"\n",
      "                     /note=\"{ECO:0000255}; propagated from UniProtKB/Swiss-Prot\n",
      "                     (O15354.2)\"\n",
      "                     /calculated_mol_wt=2782\n",
      "     mat_peptide     27..613\n",
      "                     /product=\"Prosaposin receptor GPR37\"\n",
      "                     /experiment=\"experimental evidence, no additional details\n",
      "                     recorded\"\n",
      "                     /note=\"propagated from UniProtKB/Swiss-Prot (O15354.2)\"\n",
      "                     /calculated_mol_wt=64351\n",
      "     Site            266..286\n",
      "                     /site_type=\"transmembrane region\"\n",
      "                     /experiment=\"experimental evidence, no additional details\n",
      "                     recorded\"\n",
      "                     /note=\"propagated from UniProtKB/Swiss-Prot (O15354.2)\"\n",
      "     Region          278..548\n",
      "                     /region_name=\"7tm_1\"\n",
      "                     /note=\"7 transmembrane receptor (rhodopsin family);\n",
      "                     pfam00001\"\n",
      "                     /db_xref=\"CDD:278431\"\n",
      "     Site            300..320\n",
      "                     /site_type=\"transmembrane region\"\n",
      "                     /experiment=\"experimental evidence, no additional details\n",
      "                     recorded\"\n",
      "                     /note=\"propagated from UniProtKB/Swiss-Prot (O15354.2)\"\n",
      "     Site            336..356\n",
      "                     /site_type=\"transmembrane region\"\n",
      "                     /experiment=\"experimental evidence, no additional details\n",
      "                     recorded\"\n",
      "                     /note=\"propagated from UniProtKB/Swiss-Prot (O15354.2)\"\n",
      "     Site            380..400\n",
      "                     /site_type=\"transmembrane region\"\n",
      "                     /experiment=\"experimental evidence, no additional details\n",
      "                     recorded\"\n",
      "                     /note=\"propagated from UniProtKB/Swiss-Prot (O15354.2)\"\n",
      "     Site            444..464\n",
      "                     /site_type=\"transmembrane region\"\n",
      "                     /experiment=\"experimental evidence, no additional details\n",
      "                     recorded\"\n",
      "                     /note=\"propagated from UniProtKB/Swiss-Prot (O15354.2)\"\n",
      "     Site            494..514\n",
      "                     /site_type=\"transmembrane region\"\n",
      "                     /experiment=\"experimental evidence, no additional details\n",
      "                     recorded\"\n",
      "                     /note=\"propagated from UniProtKB/Swiss-Prot (O15354.2)\"\n",
      "     Site            532..552\n",
      "                     /site_type=\"transmembrane region\"\n",
      "                     /experiment=\"experimental evidence, no additional details\n",
      "                     recorded\"\n",
      "                     /note=\"propagated from UniProtKB/Swiss-Prot (O15354.2)\"\n",
      "     CDS             1..613\n",
      "                     /gene=\"GPR37\"\n",
      "                     /gene_synonym=\"EDNRBL; hET(B)R-LP; PAELR\"\n",
      "                     /coded_by=\"NM_005302.4:1133..2974\"\n",
      "                     /db_xref=\"CCDS:CCDS5792.1\"\n",
      "                     /db_xref=\"GeneID:2861\"\n",
      "                     /db_xref=\"HGNC:HGNC:4494\"\n",
      "                     /db_xref=\"MIM:602583\"\n",
      "ORIGIN      \n",
      "        1 mrapgallar msrlllllll kvsassalgv apasrnetcl gescaptviq rrgrdawgpg\n",
      "       61 nsardvlrar apreeqgaaf lagpswdlpa apgrdpaagr gaeasaagpp gpptrppgpw\n",
      "      121 rwkgargqep setlgrgnpt alqlflqise eeekgprgag isgrsqeqsv ktvpgasdlf\n",
      "      181 ywprragklq gshhkplskt anglaghegw tialpgrala qngslgegih epggprrgns\n",
      "      241 tnrrvrlknp fypltqesyg ayavmclsvv ifgtgiignl avmcivchny ymrsisnsll\n",
      "      301 anlafwdfli iffclplvif heltkkwlle dfsckivpyi evaslgvttf tlcalcidrf\n",
      "      361 raatnvqmyy emiencsstt aklaviwvga lllalpevvl rqlskedlgf sgrapaerci\n",
      "      421 ikispdlpdt iyvlaltyds arlwwyfgcy fclptlftit cslvtarkir kaekactrgn\n",
      "      481 krqiqlesqm nctvvaltil ygfciipeni cnivtaymat gvsqqtmdll niisqfllff\n",
      "      541 kscvtpvllf clckpfsraf meccccccee ciqksstvts ddndneytte lelspfstir\n",
      "      601 remstfasvg thc\n",
      "//\n",
      "\n",
      "LOCUS       NP_001298242             304 aa            linear   PRI 17-JUL-2017\n",
      "DEFINITION  proteinase-activated receptor 1 isoform 2 [Homo sapiens].\n",
      "ACCESSION   NP_001298242\n",
      "VERSION     NP_001298242.1\n",
      "DBSOURCE    REFSEQ: accession NM_001311313.1\n",
      "KEYWORDS    RefSeq.\n",
      "SOURCE      Homo sapiens (human)\n",
      "  ORGANISM  Homo sapiens\n",
      "            Eukaryota; Metazoa; Chordata; Craniata; Vertebrata; Euteleostomi;\n",
      "            Mammalia; Eutheria; Euarchontoglires; Primates; Haplorrhini;\n",
      "            Catarrhini; Hominidae; Homo.\n",
      "REFERENCE   1  (residues 1 to 304)\n",
      "  AUTHORS   Xue M, Lin H, Zhao R, Liang HP and Jackson C.\n",
      "  TITLE     The differential expression of protease activated receptors\n",
      "            contributes to functional differences between dark and fair\n",
      "            keratinocytes\n",
      "  JOURNAL   J. Dermatol. Sci. 85 (3), 178-185 (2017)\n",
      "   PUBMED   27979585\n",
      "  REMARK    GeneRIF: Data highlight functional differences in proliferation and\n",
      "            barrier integrity between dark keratinocytes and fair keratinocytes\n",
      "            that are partly associated with their differential expression of\n",
      "            PAR1 and PAR2.\n",
      "REFERENCE   2  (residues 1 to 304)\n",
      "  AUTHORS   Duvernay MT, Temple KJ, Maeng JG, Blobaum AL, Stauffer SR, Lindsley\n",
      "            CW and Hamm HE.\n",
      "  TITLE     Contributions of Protease-Activated Receptors PAR1 and PAR4 to\n",
      "            Thrombin-Induced GPIIbIIIa Activation in Human Platelets\n",
      "  JOURNAL   Mol. Pharmacol. 91 (1), 39-47 (2017)\n",
      "   PUBMED   27784794\n",
      "  REMARK    GeneRIF: the contribution of PAR1 and PAR4 to thrombin-mediated\n",
      "            activation of the platelet fibrin receptor (GPIIbIIIa), is\n",
      "            reported.\n",
      "REFERENCE   3  (residues 1 to 304)\n",
      "  AUTHORS   Ando K, Maruko-Otake A, Ohtake Y, Hayashishita M, Sekiya M and\n",
      "            Iijima KM.\n",
      "  TITLE     Stabilization of Microtubule-Unbound Tau via Tau Phosphorylation at\n",
      "            Ser262/356 by Par-1/MARK Contributes to Augmentation of AD-Related\n",
      "            Phosphorylation and Abeta42-Induced Tau Toxicity\n",
      "  JOURNAL   PLoS Genet. 12 (3), E1005917 (2016)\n",
      "   PUBMED   27023670\n",
      "  REMARK    GeneRIF: These results suggest that stabilization of\n",
      "            microtubule-unbound tau by phosphorylation at Ser262/356 via the\n",
      "            PAR-1/MARK may act in the initial steps of tau mismetabolism in AD\n",
      "            pathogenesis\n",
      "            Publication Status: Online-Only\n",
      "REFERENCE   4  (residues 1 to 304)\n",
      "  AUTHORS   Tillery LC, Epperson TA, Eguchi S and Motley ED.\n",
      "  TITLE     Featured Article: Differential regulation of endothelial nitric\n",
      "            oxide synthase phosphorylation by protease-activated receptors in\n",
      "            adult human endothelial cells\n",
      "  JOURNAL   Exp. Biol. Med. (Maywood) 241 (6), 569-580 (2016)\n",
      "   PUBMED   26729042\n",
      "  REMARK    GeneRIF: Thrombin and the PAR-1 activating peptide, TFLLR, lead to\n",
      "            the phosphorylation of eNOS-Ser-1177 in human coronary artery\n",
      "            endothelial cells, which was blocked by SCH-79797 (SCH), a PAR-1\n",
      "            inhibitor.\n",
      "REFERENCE   5  (residues 1 to 304)\n",
      "  AUTHORS   Erturk K, Tastekin D, Bilgin E, Tas F, Disci R and Duranyildiz D.\n",
      "  TITLE     Clinical significance of serum protease activated receptor1 levels\n",
      "            in patients with lung cancer\n",
      "  JOURNAL   Eur Rev Med Pharmacol Sci 20 (2), 243-249 (2016)\n",
      "   PUBMED   26875892\n",
      "  REMARK    GeneRIF: The serum levels of PAR1 might have a diagnostic value in\n",
      "            lung cancer patients\n",
      "REFERENCE   6  (residues 1 to 304)\n",
      "  AUTHORS   Wojtukiewicz MZ, Tang DG, Ben-Josef E, Renaud C, Walz DA and Honn\n",
      "            KV.\n",
      "  TITLE     Solid tumor cells express functional 'tethered ligand' thrombin\n",
      "            receptor\n",
      "  JOURNAL   Cancer Res. 55 (3), 698-704 (1995)\n",
      "   PUBMED   7834643\n",
      "REFERENCE   7  (residues 1 to 304)\n",
      "  AUTHORS   Hein L, Ishii K, Coughlin SR and Kobilka BK.\n",
      "  TITLE     Intracellular targeting and trafficking of thrombin receptors. A\n",
      "            novel mechanism for resensitization of a G protein-coupled receptor\n",
      "  JOURNAL   J. Biol. Chem. 269 (44), 27719-27726 (1994)\n",
      "   PUBMED   7961693\n",
      "REFERENCE   8  (residues 1 to 304)\n",
      "  AUTHORS   Coughlin SR, Vu TK, Hung DT and Wheaton VI.\n",
      "  TITLE     Characterization of a functional thrombin receptor. Issues and\n",
      "            opportunities\n",
      "  JOURNAL   J. Clin. Invest. 89 (2), 351-355 (1992)\n",
      "   PUBMED   1310691\n",
      "  REMARK    Review article\n",
      "REFERENCE   9  (residues 1 to 304)\n",
      "  AUTHORS   Shenker A, Goldsmith P, Unson CG and Spiegel AM.\n",
      "  TITLE     The G protein coupled to the thromboxane A2 receptor in human\n",
      "            platelets is a member of the novel Gq family\n",
      "  JOURNAL   J. Biol. Chem. 266 (14), 9309-9313 (1991)\n",
      "   PUBMED   1851174\n",
      "REFERENCE   10 (residues 1 to 304)\n",
      "  AUTHORS   Vu TK, Hung DT, Wheaton VI and Coughlin SR.\n",
      "  TITLE     Molecular cloning of a functional thrombin receptor reveals a novel\n",
      "            proteolytic mechanism of receptor activation\n",
      "  JOURNAL   Cell 64 (6), 1057-1068 (1991)\n",
      "   PUBMED   1672265\n",
      "COMMENT     REVIEWED REFSEQ: This record has been curated by NCBI staff. The\n",
      "            reference sequence was derived from AK308169.1, DA799420.1,\n",
      "            BC051909.1, BM994328.1 and N35000.1.\n",
      "            \n",
      "            Summary: Coagulation factor II receptor is a 7-transmembrane\n",
      "            receptor involved in the regulation of thrombotic response.\n",
      "            Proteolytic cleavage leads to the activation of the receptor. F2R\n",
      "            is a G-protein coupled receptor family member. Alternative splicing\n",
      "            results in multiple transcript variants. [provided by RefSeq, Aug\n",
      "            2015].\n",
      "            \n",
      "            Transcript Variant: This variant (2) differs in the 5' UTR, lacks a\n",
      "            portion of the 5' coding region and initiates translation from a\n",
      "            downstream start codon, compared to variant 1. It encodes isoform\n",
      "            2, which is shorter at the N-terminus, compared to isoform 1.\n",
      "            \n",
      "            Publication Note:  This RefSeq record includes a subset of the\n",
      "            publications that are available for this gene. Please see the Gene\n",
      "            record to access additional publications.\n",
      "            \n",
      "            ##Evidence-Data-START##\n",
      "            RNAseq introns :: single sample supports all introns SAMEA2155628,\n",
      "                              SAMN01820691 [ECO:0000348]\n",
      "            ##Evidence-Data-END##\n",
      "FEATURES             Location/Qualifiers\n",
      "     source          1..304\n",
      "                     /organism=\"Homo sapiens\"\n",
      "                     /db_xref=\"taxon:9606\"\n",
      "                     /chromosome=\"5\"\n",
      "                     /map=\"5q13.3\"\n",
      "     Protein         1..304\n",
      "                     /product=\"proteinase-activated receptor 1 isoform 2\"\n",
      "                     /note=\"proteinase-activated receptor 1; protease-activated\n",
      "                     receptor 1\"\n",
      "                     /calculated_mol_wt=33761\n",
      "     Region          1..250\n",
      "                     /region_name=\"7tm_1\"\n",
      "                     /note=\"7 transmembrane receptor (rhodopsin family);\n",
      "                     pfam00001\"\n",
      "                     /db_xref=\"CDD:278431\"\n",
      "     CDS             1..304\n",
      "                     /gene=\"F2R\"\n",
      "                     /gene_synonym=\"CF2R; HTR; PAR-1; PAR1; TR\"\n",
      "                     /coded_by=\"NM_001311313.1:751..1665\"\n",
      "                     /note=\"isoform 2 is encoded by transcript variant 2\"\n",
      "                     /db_xref=\"GeneID:2149\"\n",
      "                     /db_xref=\"HGNC:HGNC:3537\"\n",
      "                     /db_xref=\"MIM:187930\"\n",
      "ORIGIN      \n",
      "        1 maivvfilkm kvkkpavvym lhlatadvlf vsvlpfkisy yfsgsdwqfg selcrfvtaa\n",
      "       61 fycnmyasil lmtvisidrf lavvypmqsl swrtlgrasf tclaiwalai agvvplllke\n",
      "      121 qtiqvpglni ttchdvlnet llegyyayyf safsavfffv pliistvcyv siirclsssa\n",
      "      181 vanrskksra lflsaavfci fiicfgptnv lliahysfls htstteaayf ayllcvcvss\n",
      "      241 isccidpliy yyassecqry vysilcckes sdpssynssg qlmaskmdtc ssnlnnsiyk\n",
      "      301 kllt\n",
      "//\n",
      "\n",
      "\n"
     ]
    }
   ],
   "source": [
    "handle = Entrez.efetch(db=\"protein\", WebEnv=webenv, query_key=querykey, retstart=0, retmax=2, rettype=\"gp\", retmode=\"text\")\n",
    "print(handle.read())"
   ]
  },
  {
   "cell_type": "markdown",
   "metadata": {},
   "source": [
    "## Zadanie 13. Elink\n",
    "Elink pozwala na wyszukanie linków pomiędzy bazami, np. mając ID genu chcemy przejść do sekwencji białkowej"
   ]
  },
  {
   "cell_type": "code",
   "execution_count": 18,
   "metadata": {},
   "outputs": [
    {
     "name": "stdout",
     "output_type": "stream",
     "text": [
      "1043914264\n",
      "1005667216\n",
      "970597826\n",
      "970597824\n",
      "918400562\n",
      "890880780\n",
      "772394756\n",
      "772394754\n",
      "772394752\n",
      "772394750\n",
      "772394748\n",
      "772394746\n",
      "772394744\n",
      "772394742\n",
      "772394740\n",
      "772394729\n",
      "772394727\n",
      "772394725\n",
      "772394723\n",
      "772394721\n",
      "772394719\n",
      "772394717\n",
      "772394715\n",
      "772394713\n",
      "772394711\n",
      "544336747\n",
      "410178713\n",
      "410178711\n",
      "402830039\n",
      "350285456\n",
      "321271362\n",
      "319739575\n",
      "270297796\n",
      "270297794\n",
      "256028940\n",
      "237675828\n",
      "223971865\n",
      "223970113\n",
      "194719364\n",
      "193244963\n",
      "193244961\n",
      "193244959\n",
      "193244957\n",
      "193244955\n",
      "193244953\n",
      "193244951\n",
      "193244949\n",
      "193244947\n",
      "193244945\n",
      "193244943\n",
      "193244941\n",
      "193244939\n",
      "193244937\n",
      "193244935\n",
      "193244933\n",
      "193244931\n",
      "193244929\n",
      "193244927\n",
      "193244925\n",
      "193244923\n",
      "193244921\n",
      "193244919\n",
      "193244917\n",
      "193244915\n",
      "193244913\n",
      "193244911\n",
      "193244909\n",
      "193244907\n",
      "193244905\n",
      "193244903\n",
      "193244901\n",
      "193244899\n",
      "193244897\n",
      "193244895\n",
      "193244893\n",
      "193244891\n",
      "193244889\n",
      "193244887\n",
      "193244885\n",
      "193244883\n",
      "193244881\n",
      "193244879\n",
      "193244877\n",
      "193244875\n",
      "193244873\n",
      "193244871\n",
      "193244869\n",
      "193244867\n",
      "190613770\n",
      "189053145\n",
      "187940241\n",
      "186461228\n",
      "184186850\n",
      "184186848\n",
      "163140875\n",
      "157928558\n",
      "133711987\n",
      "123999887\n",
      "123992967\n",
      "119589212\n",
      "119567601\n",
      "117646600\n",
      "117645526\n",
      "109893891\n",
      "82548237\n",
      "75491671\n",
      "73745654\n",
      "71727271\n",
      "71727269\n",
      "71727267\n",
      "71727265\n",
      "71727263\n",
      "71727261\n",
      "71727259\n",
      "71727257\n",
      "71727255\n",
      "71727253\n",
      "71727251\n",
      "71727249\n",
      "71727247\n",
      "71727245\n",
      "71727243\n",
      "71727241\n",
      "71727239\n",
      "71727237\n",
      "71727235\n",
      "71727233\n",
      "71727231\n",
      "71727229\n",
      "71727227\n",
      "71727225\n",
      "71727223\n",
      "71727221\n",
      "71727219\n",
      "71727217\n",
      "71727215\n",
      "71727213\n",
      "71727211\n",
      "71727209\n",
      "71727207\n",
      "71727205\n",
      "71727203\n",
      "71727201\n",
      "71727199\n",
      "71727197\n",
      "71727195\n",
      "71727193\n",
      "71727191\n",
      "71727189\n",
      "71727187\n",
      "71727185\n",
      "71727183\n",
      "71727181\n",
      "71727179\n",
      "71727177\n",
      "71727175\n",
      "71727173\n",
      "71727171\n",
      "71727169\n",
      "71727167\n",
      "71727165\n",
      "71727163\n",
      "71727161\n",
      "71370292\n",
      "71064153\n",
      "68005524\n",
      "66731527\n",
      "66473265\n",
      "62823011\n",
      "58531039\n",
      "58201131\n",
      "57162047\n",
      "56749856\n",
      "52631676\n",
      "49456781\n",
      "49168544\n",
      "47679341\n",
      "47679339\n",
      "40886941\n",
      "34224021\n",
      "33694206\n",
      "33694204\n",
      "32307090\n",
      "31376249\n",
      "30349217\n",
      "29893410\n",
      "26892090\n",
      "23268683\n",
      "23268451\n",
      "23268449\n",
      "22094827\n",
      "18418633\n",
      "13937929\n",
      "13786067\n",
      "13560677\n",
      "13549112\n",
      "13492060\n",
      "13492058\n",
      "13492056\n",
      "13432059\n",
      "13273496\n",
      "12083483\n",
      "12083481\n",
      "12083479\n",
      "12083477\n",
      "11066958\n",
      "11066956\n",
      "6003534\n",
      "6003532\n",
      "4929547\n",
      "4837723\n",
      "4504349\n",
      "4378804\n",
      "4262120\n",
      "4261911\n",
      "4050080\n",
      "4038415\n",
      "2253432\n",
      "1340165\n",
      "1066784\n",
      "1066782\n",
      "1066780\n",
      "1066779\n",
      "1066777\n",
      "1066776\n",
      "1066774\n",
      "1066773\n",
      "1066771\n",
      "1066770\n",
      "1066768\n",
      "1066767\n",
      "1066765\n",
      "1066764\n",
      "1066762\n",
      "1066761\n",
      "1066759\n",
      "1066758\n",
      "1066756\n",
      "1066755\n",
      "687685\n",
      "532522\n",
      "532521\n",
      "532520\n",
      "532519\n",
      "532518\n",
      "532517\n",
      "532516\n",
      "532515\n",
      "532514\n",
      "532513\n",
      "532512\n",
      "532511\n",
      "532510\n",
      "532509\n",
      "532508\n",
      "532507\n",
      "532506\n",
      "455998\n",
      "455997\n",
      "386766\n",
      "344422\n",
      "183945\n",
      "183857\n",
      "183855\n",
      "183830\n",
      "183817\n",
      "179409\n",
      "29446\n",
      "29441\n",
      "29437\n"
     ]
    }
   ],
   "source": [
    "handle = Entrez.elink(dbfrom=\"gene\", db=\"protein\", id=3043) \n",
    "# ID genu hemoglobiny czlowieka\n",
    "result = Entrez.read(handle)\n",
    "for link in result[0][\"LinkSetDb\"][0][\"Link\"]:\n",
    "    print(link[\"Id\"])  \n",
    "#wypisze listę powiązanych identyfikatorów z bazy protein"
   ]
  },
  {
   "cell_type": "markdown",
   "metadata": {},
   "source": [
    "W pętli for pierwsze [0] dlatego, że szukamy linków dla pierwszego id (w naszym przypadku jest tylko jeden, ale parametrem elink może być również lista identyfikatorów). Drugie [0] dlatego, że szukamy dla pierwszej bazy docelowej (w naszym przypadku „protein”; uwaga j.w. – tu  jest  jedna  baza  docelowa,  ale  może  być więcej).  Dodatkowe  informacje  o parametrach Elinka znajdziesz na stronie NCBI Eutils."
   ]
  },
  {
   "cell_type": "markdown",
   "metadata": {},
   "source": [
    "## Zadanie 14.\n",
    "Napisz skrypt, który przy wykonuje kolejno następujące zadania:\n",
    "    1. Wyszukaj geny powiązane z nazwą BRCA1 u człowieka. Wypisz pola: Name, Chromosome, MapLocation i Description\n"
   ]
  },
  {
   "cell_type": "code",
   "execution_count": 19,
   "metadata": {},
   "outputs": [
    {
     "name": "stdout",
     "output_type": "stream",
     "text": [
      "TP53, 17, 17p13.1, tumor protein p53\n",
      "EGFR, 7, 7p11.2, epidermal growth factor receptor\n",
      "VEGFA, 6, 6p21.1, vascular endothelial growth factor A\n",
      "MTHFR, 1, 1p36.22, methylenetetrahydrofolate reductase\n",
      "TGFB1, 19, 19q13.2, transforming growth factor beta 1\n",
      "ESR1, 6, 6q25.1-q25.2, estrogen receptor 1\n",
      "ERBB2, 17, 17q12, erb-b2 receptor tyrosine kinase 2\n",
      "HIF1A, 14, 14q23.2, hypoxia inducible factor 1 alpha subunit\n",
      "BRCA1, 17, 17q21.31, BRCA1, DNA repair associated\n",
      "ABCB1, 7, 7q21.12, ATP binding cassette subfamily B member 1\n",
      "NFKB1, 4, 4q24, nuclear factor kappa B subunit 1\n",
      "AR, X, Xq12, androgen receptor\n",
      "AKT1, 14, 14q32.33, AKT serine/threonine kinase 1\n",
      "CDKN2A, 9, 9p21.3, cyclin dependent kinase inhibitor 2A\n",
      "IL1B, 2, 2q14.1, interleukin 1 beta\n",
      "VDR, 12, 12q13.11, vitamin D receptor\n",
      "KRAS, 12, 12p12.1, KRAS proto-oncogene, GTPase\n",
      "STAT3, 17, 17q21.2, signal transducer and activator of transcription 3\n",
      "COMT, 22, 22q11.21, catechol-O-methyltransferase\n",
      "PTEN, 10, 10q23.31, phosphatase and tensin homolog\n"
     ]
    }
   ],
   "source": [
    "item = 'BRCA1'\n",
    "animal = 'Homo sapiens' \n",
    "search_string = item + \" AND \" + animal + \"[Organism]\"\n",
    "\n",
    "handle = Entrez.esearch(db=\"gene\", term=search_string)\n",
    "resultSearch = Entrez.read(handle)\n",
    "handle = Entrez.esummary(db=\"gene\", id=\",\".join(resultSearch[\"IdList\"]))\n",
    "result = Entrez.read(handle)\n",
    "\n",
    "for record in result['DocumentSummarySet']['DocumentSummary']:\n",
    "    print(\"%(Name)s, %(Chromosome)s, %(MapLocation)s, %(Description)s\" % record)    "
   ]
  },
  {
   "cell_type": "markdown",
   "metadata": {},
   "source": [
    "    2. Zachowaj id genu o nazwie BRCA1 "
   ]
  },
  {
   "cell_type": "code",
   "execution_count": 20,
   "metadata": {},
   "outputs": [
    {
     "name": "stdout",
     "output_type": "stream",
     "text": [
      "672\n"
     ]
    }
   ],
   "source": [
    "handle = Entrez.esearch(db=\"gene\", term=item)\n",
    "search = Entrez.read(handle)\n",
    "handle = Entrez.esummary(db=\"gene\", id=\",\".join(search[\"IdList\"]))\n",
    "result = Entrez.read(handle)\n",
    "\n",
    "for i, record in enumerate (result['DocumentSummarySet']['DocumentSummary']):\n",
    "    if record['Name'] == \"BRCA1\":\n",
    "        BRCA1_Id = search[\"IdList\"][i]\n",
    "\n",
    "print(BRCA1_Id)"
   ]
  },
  {
   "cell_type": "markdown",
   "metadata": {},
   "source": [
    "    3. Wypisz tytuły rekordów bazy OMIM związane z tym genem\n"
   ]
  },
  {
   "cell_type": "code",
   "execution_count": 21,
   "metadata": {},
   "outputs": [
    {
     "name": "stdout",
     "output_type": "stream",
     "text": [
      "ZINC FINGER PROTEIN 589; ZNF589\n",
      "UBX DOMAIN PROTEIN 1; UBXN1\n",
      "GLUTATHIONE PEROXIDASE 7; GPX7\n",
      "CYCLIN-DEPENDENT KINASE 12; CDK12\n",
      "BRCA1-ASSOCIATED ATM ACTIVATOR 1; BRAT1\n",
      "RIGIDITY AND MULTIFOCAL SEIZURE SYNDROME, LETHAL NEONATAL; RMFSL\n",
      "TUMOR PREDISPOSITION SYNDROME; TPDS\n",
      "PANCREATIC CANCER, SUSCEPTIBILITY TO, 4; PNCA4\n",
      "FANCD2 GENE; FANCD2\n",
      "FANCE GENE; FANCE\n",
      "FANCC GENE; FANCC\n",
      "GLUCOSE-6-PHOSPHATASE, CATALYTIC; G6PC\n",
      "MEN1 GENE; MEN1\n",
      "BREAST-OVARIAN CANCER, FAMILIAL, SUSCEPTIBILITY TO, 3; BROVCA3\n",
      "PANCREATIC CANCER, SUSCEPTIBILITY TO, 3\n",
      "PANCREATIC CANCER, SUSCEPTIBILITY TO, 2\n",
      "NEUROFIBROMIN 1; NF1\n",
      "CHROMOSOME 19 OPEN READING FRAME 62; C19ORF62\n",
      "RING FINGER PROTEIN 168; RNF168\n",
      "BREAST-OVARIAN CANCER, FAMILIAL, SUSCEPTIBILITY TO, 2; BROVCA2\n"
     ]
    }
   ],
   "source": [
    "handle = Entrez.esearch(db=\"OMIM\", term=item)\n",
    "search = Entrez.read(handle)\n",
    "for i in search[\"IdList\"]:\n",
    "        handle = Entrez.esummary(db=\"OMIM\", id=i)\n",
    "        result = Entrez.read(handle)\n",
    "        print(result[0][\"Title\"])"
   ]
  },
  {
   "cell_type": "markdown",
   "metadata": {},
   "source": [
    "    4. Znajdź białka powiązane z tym genem (baza protein): wypisz pola numeru identyfikacyjnego Gi dla wyszukanych sekwencji\n"
   ]
  },
  {
   "cell_type": "code",
   "execution_count": 22,
   "metadata": {},
   "outputs": [
    {
     "name": "stdout",
     "output_type": "stream",
     "text": [
      "1007353152\n",
      "1007352673\n",
      "1007352648\n",
      "929524271\n",
      "929524269\n",
      "929524267\n",
      "862669351\n",
      "336285487\n",
      "330864753\n",
      "217416415\n",
      "217272816\n",
      "190684675\n",
      "156523968\n",
      "148529023\n",
      "112789562\n",
      "67189945\n",
      "64762484\n",
      "33356172\n",
      "19924125\n",
      "19923717\n"
     ]
    }
   ],
   "source": [
    "handle = Entrez.esearch(db=\"protein\", term=search_string)\n",
    "search = Entrez.read(handle)\n",
    "for i in search[\"IdList\"]:\n",
    "        handle = Entrez.esummary(db=\"protein\", id=i)\n",
    "        result = Entrez.read(handle)\n",
    "        print(result[0][\"Gi\"])"
   ]
  },
  {
   "cell_type": "markdown",
   "metadata": {},
   "source": [
    "    5. Pobierz białko o numerze identyfikacyjnym 121949022 w formacie genbank, wypisz jego nazwę oraz sekwencję aminokwasów\n"
   ]
  },
  {
   "cell_type": "code",
   "execution_count": 23,
   "metadata": {},
   "outputs": [
    {
     "name": "stdout",
     "output_type": "stream",
     "text": [
      "Q3LRJ6_HUMAN\n",
      "MDLSALRVEEVQNVINAMQKILECPICLELIKEPVSTKCDHIFCKFCMLKLLNQKKGPSQCPLCKNDITKRSLQESTRFSQLVEELLKIICAFQLDTGLEYANSYNFAKKENNSPEHLKDEVSIIQSMGYRNRAKRLLQSEPENPSLQETSLSVQLSNLGTVRTLRTKQRIQPQKTSVYIELGSDSSEDTVNKATYCSVGDQELLQITPQGTRDEISLDSAKKAACEFSETDVTNTEHHQPSNNDLNTTEKRAAERHPEKYQGSSVSNLHVEPCGTNTHASSLQHENSSLLLTKDRMNVEKAEFCNKSKQPGLARSQHNRWAGSKETCNDRRTPSTEKKVDLNADPLCERKEWNKQKLPCSENPRDTEDVPWITLNSSIQKVNEWFSRSDELLGSDDSHDGESESNAKVADVLDVLNEVDEYSGSSEKIDLLASDPHEALICKSERVHSKSVESNIEDKIFGKTYRKKASLPNLSHVTENLIIGAFVTEPQIIQERPLTNKLKRKRRPTSGLHPEDFIKKADLAVQKTPEMINQGTNQTEQNGQVMNITNSGHENKTKGDSIQNEKNPNPIESLEKESAFKTKAEPISSSISNMELELNIHNSKAPKKNRLRRKSSTRHIHALELVVSRNLSPPNCTELQIDSCSSSEEIKKKKYNQMPVRHSRNLQLMEGKEPATGAKKSNKPNEQTSKRHDSDTFPELKLTNAPGSFTKCSNTSELKEFVNPSLPREEKEEKLETVKVSNNAEDPKDLMLSGERVLQTERSVESSSISLVPGTDYGTQESISLLEVSTLGKAKTEPNKCVSQCAAFENPKGLIHGCSKDNRNDTEGFKYPLGHEVNHSRETSIEMEESELDAQYLQNTFKVSKRQSFAPFSNPGNAEEECATFSAHSGSLKKQSPKVTFECEQKEENQGKNESNIKPVQTVNITAGFPVVGQKDKPVDNAKCSIKGGSRFCLSSQFRGNETGLITPNKHGLLQNPYRIPPLFPIKSFVKTKCKKNLLEENFEEHSMSPEREMGNENIPSTVSTISRNNIRENVFKEASSSNINEVGSSTNEVGSSINEIGSSDENIQAELGRNRGPKLNAMLRLGVLQPEVYKQSLPGSNCKHPEIKKQEYEEVVQTVNTDFSPYLISDNLEQPMGSSHASQVCSETPDDLLDDGEIKEDTSFAENDIKESSAVFSKSVQKGELSRSPSPFTHTHLAQGYRRGAKKLESSEENLSSEDEELPCFQHLLFGKVNNIPSQSTRHSTVATECLSKNTEENLLSLKNSLNDCSNQVILAKASQEHHLSEETKCSASLFSSQCSELEDLTANTNTQDPFLIGSSKQMRHQSESQGVGLSDKELVSDDEERGTGLEENNQEEQSMDSNLGEAASGCESETSVSEDCSGLSSQSDILTTQQRDTMQHNLIKLQQEMAELEAVLEQHGSQPSNSYPSIISDSSALEDLRNPEQSTSEKAVLTSQKSSEYPISQNPEGLSADKFEVSADSSTSKNKEPGVERSSPSKCPSLDDRWYMHSCSGSLQNRNYPSQEELIKVVDVEEQQLEESGPHDLTETSYLPRQDLEGTPYLESGISLFSDDPESDPSEDRAPESARVGNIPSSTSALKVPQLKVAESAQSPAAAHTTDTAGYNAMEESVSREKPELTASTERVNKRMSMVVSGLTPEEFMLVYKFARKHHITLTNLITEETTHVVMKTDAEFVCERTLKYFLGIAGGKWVVSYFWVTQSIKERKMLNEHDFEVRGDVVNGRNHQGPKRARESQDRKIFRGLEICCYGPFTNMPTDQLEWMVQLCGASVVKELSSFTLGTGVHPIVVVQPDAWTEDNGFHAIGQMCEAPVVTREWVLDSVALYQCQELDTYLIPQIPHSHY\n"
     ]
    }
   ],
   "source": [
    "handle = Entrez.efetch(db=\"protein\", id=\"121949022\", rettype=\"gb\", retmode=\"text\")\n",
    "result = SeqIO.read(handle, \"genbank\")\n",
    "print(result.name)\n",
    "print(result.seq)"
   ]
  },
  {
   "cell_type": "markdown",
   "metadata": {},
   "source": [
    "    6. Znajdź wszystkie mutacje w obrębie genu BRCA1 u człowieka (w elink do bazy SNP użyj term=\"Homo sapiens\"), wypisz ile mutacji znaleziono, dla pierwszych 50 wyświetl ich numer identyfikacyjny SNP_ID, klasę SNP_CLASS, gen GENE i pozycję CONTIGPOS\n"
   ]
  },
  {
   "cell_type": "code",
   "execution_count": 24,
   "metadata": {},
   "outputs": [
    {
     "name": "stdout",
     "output_type": "stream",
     "text": [
      "Count of mutatons: 7141\n",
      "864622737 snp  NT_010783.16:16168869\n",
      "864622723 snp  NT_010783.16:16158416\n",
      "864622618 snp  NT_010783.16:16156710\n",
      "864622588 snp  NT_010783.16:16156804\n",
      "864622540 snp  NT_010783.16:16154967\n",
      "864622536 in-del  NT_010783.16:16157172\n",
      "864622534 snp  NT_010783.16:16179817\n",
      "864622491 snp  NT_010783.16:16156947\n",
      "864622454 snp  NT_010783.16:16158257\n",
      "864622452 snp  NT_010783.16:16157553\n",
      "864622444 snp  NT_010783.16:16168902\n",
      "864622350 in-del  NT_010783.16:16163810\n",
      "864622306 snp  NT_010783.16:16159960\n",
      "864622265 snp  NT_010783.16:16138385\n",
      "864622260 snp  NT_010783.16:16163877\n",
      "864622244 snp  NT_010783.16:16113175\n",
      "864622233 snp  NT_010783.16:16155620\n",
      "864622220 in-del  NT_010783.16:16109765\n",
      "864622146 snp  NT_010783.16:16156083\n",
      "864622132 in-del  NT_010783.16:16135224\n",
      "864622124 snp  NT_010783.16:16168201\n",
      "864622122 snp  NT_010783.16:16156984\n",
      "864622119 in-del  NT_010783.16:16146418\n",
      "864622104 snp  NT_010783.16:16121124\n",
      "864622080 snp  NT_010783.16:16155978\n",
      "863224841 in-del  NT_010783.16:16157388\n",
      "863224766 snp  NT_010783.16:16158610\n",
      "863224765 snp  NT_010783.16:16115106\n",
      "863224764 snp  NT_010783.16:16121080\n",
      "863224763 snp  NT_010783.16:16127939\n",
      "863224762 snp  NT_010783.16:16135241\n",
      "863224761 snp  NT_010783.16:16138485\n",
      "863224760 snp  NT_010783.16:16155844\n",
      "863224759 snp  NT_010783.16:16156195\n",
      "863224758 snp  NT_010783.16:16156459\n",
      "863224757 snp  NT_010783.16:16168876\n",
      "863224756 snp  NT_010783.16:16156618\n",
      "863224755 snp  NT_010783.16:16168915\n",
      "863224754 snp  NT_010783.16:16156997\n",
      "863224753 snp  NT_010783.16:16157714\n",
      "863224752 snp  NT_010783.16:16158417\n",
      "863224512 in-del  NT_010783.16:16163852\n",
      "863224511 snp  NT_010783.16:16140518\n",
      "863224510 in-del  NT_010783.16:16157507\n",
      "863224421 snp  NT_010783.16:16161256\n",
      "863224420 snp  NT_010783.16:16138551\n",
      "863224419 snp  NT_010783.16:16156128\n",
      "863224418 snp  NT_010783.16:16168946\n",
      "863224417 snp  NT_010783.16:16179731\n",
      "863224416 snp  NT_010783.16:16158534\n"
     ]
    }
   ],
   "source": [
    "handleLink = Entrez.elink(dbfrom=\"gene\", db=\"snp\", id=BRCA1_Id, term=animal)\n",
    "resultLink = Entrez.read(handleLink )\n",
    "\n",
    "linkList = []\n",
    "for link in resultLink[0]['LinkSetDb'][0]['Link']:\n",
    "    linkList.append(link[\"Id\"])\n",
    "\n",
    "print(\"Count of mutatons:\", len(linkList))\n",
    "\n",
    "handle = Entrez.esummary(db=\"SNP\",id=\",\".join(linkList[:50]))\n",
    "result = Entrez.read(handle)\n",
    "\n",
    "for record in result:\n",
    "    print(\"%(SNP_ID)s %(SNP_CLASS)s %(GENE)s %(CONTIGPOS)s\" % record)"
   ]
  },
  {
   "cell_type": "markdown",
   "metadata": {},
   "source": [
    "    7. Na podstawie przeprowadzonych wyżej poszukiwań, sformułuj odpowiednie wnioski (jakie informacje udało Ci się uzyskać? jakie jest ich znaczenie?). Treść wniosku wyświetl na ekranie (print) lub zawrzyj w komentarzu na końcu pliku ze skryptem.\n"
   ]
  },
  {
   "cell_type": "markdown",
   "metadata": {},
   "source": [
    "1. BRCA1 (breast cancer 1) \"DNA repair associated\", help repair damaged DNA, or destroy cells if DNA cannot be repaired. They are involved in the repair of chromosomal damage with an important role in the error-free repair of DNA double-strand breaks. Many genes responsible for other functions are associated with it, for example, receptors and responsible for growth.\n",
    "\n",
    "2. Its id is 672, which can be used for more detailed search in databases.\n",
    "\n",
    "3. OMIM is a continuously updated catalog of human genes and genetic disorders and traits, with a particular focus on the gene-phenotype relationship. A large number of records showing that gene mutations can lead to different types of cancer. If BRCA1 itself is damaged by a BRCA mutation, damaged DNA is not repaired properly, and this increases the risk for breast cancer.\n",
    "\n",
    "4. (5) We can find proteins related request, as well as get their name and sequence using the database.\n",
    "\n",
    "6. There are many other mutations by single nucleotide polymorphism (when there is single base which differs between two genomes, and the DNA around that base is otherwise unchanged) or INsertion/DELetion (where a single base has been deleted, or inserted into one genome relative to another) of this gene and some of them are quite dangerous."
   ]
  },
  {
   "cell_type": "code",
   "execution_count": null,
   "metadata": {
    "collapsed": true
   },
   "outputs": [],
   "source": []
  }
 ],
 "metadata": {
  "kernelspec": {
   "display_name": "Python 3",
   "language": "python",
   "name": "python3"
  },
  "language_info": {
   "codemirror_mode": {
    "name": "ipython",
    "version": 3
   },
   "file_extension": ".py",
   "mimetype": "text/x-python",
   "name": "python",
   "nbconvert_exporter": "python",
   "pygments_lexer": "ipython3",
   "version": "3.6.0"
  }
 },
 "nbformat": 4,
 "nbformat_minor": 2
}
